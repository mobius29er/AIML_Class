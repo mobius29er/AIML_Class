{
  "cells": [
    {
      "cell_type": "markdown",
      "metadata": {
        "id": "view-in-github",
        "colab_type": "text"
      },
      "source": [
        "<a href=\"https://colab.research.google.com/github/mobius29er/AIML_Class/blob/main/colab_activity7_2.ipynb\" target=\"_parent\"><img src=\"https://colab.research.google.com/assets/colab-badge.svg\" alt=\"Open In Colab\"/></a>"
      ]
    },
    {
      "cell_type": "markdown",
      "metadata": {
        "nbgrader": {
          "grade": false,
          "grade_id": "cell-207bb2902b4449dc",
          "locked": true,
          "schema_version": 1,
          "solution": false
        },
        "id": "TRWG1TxL9DRn"
      },
      "source": [
        "## Self-Study Colab Activity 7.2: Defining, Computing, and Optimizing Loss\n",
        "\n",
        "**Expected Time = 60 Minutes**\n",
        "\n",
        "\n",
        "This activity focuses on computing and minimizing the L2 loss for different values of theta and identifying the theta that minimizes the L2 loss.  \n",
        "\n",
        "## Index:\n",
        "\n",
        "- [Problem 1](#Problem-1)\n",
        "- [Problem 2](#Problem-2)\n",
        "- [Problem 3](#Problem-3)\n",
        "- [Problem 4](#Problem-4)\n",
        "- [Problem 5](#Problem-5)"
      ]
    },
    {
      "cell_type": "code",
      "execution_count": null,
      "metadata": {
        "id": "xL0YxwS29DRo"
      },
      "outputs": [],
      "source": [
        "import pandas as pd\n",
        "import numpy as np\n",
        "import seaborn as sns\n",
        "import matplotlib.pyplot as plt\n",
        "from sklearn.linear_model import LinearRegression\n",
        "from sklearn.metrics import mean_squared_error"
      ]
    },
    {
      "cell_type": "markdown",
      "metadata": {
        "nbgrader": {
          "grade": false,
          "grade_id": "cell-6851cdfbd4071223",
          "locked": true,
          "schema_version": 1,
          "solution": false
        },
        "id": "gXjb_HxG9DRo"
      },
      "source": [
        "### The Dataset\n",
        "\n",
        "The geyser data from seaborn is loaded below.  You are to  build a model using the waiting time to predict the geyser explosion duration.\n",
        "\n",
        "Note that this model will not have an intercept term.  "
      ]
    },
    {
      "cell_type": "code",
      "execution_count": null,
      "metadata": {
        "id": "A_7ZRFqa9DRo"
      },
      "outputs": [],
      "source": [
        "geyser = sns.load_dataset('geyser')"
      ]
    },
    {
      "cell_type": "code",
      "execution_count": null,
      "metadata": {
        "id": "LVP8mEko9DRp",
        "outputId": "aef69578-792d-4ed0-97cc-6715f231b2cb"
      },
      "outputs": [
        {
          "data": {
            "text/html": [
              "<div>\n",
              "<style scoped>\n",
              "    .dataframe tbody tr th:only-of-type {\n",
              "        vertical-align: middle;\n",
              "    }\n",
              "\n",
              "    .dataframe tbody tr th {\n",
              "        vertical-align: top;\n",
              "    }\n",
              "\n",
              "    .dataframe thead th {\n",
              "        text-align: right;\n",
              "    }\n",
              "</style>\n",
              "<table border=\"1\" class=\"dataframe\">\n",
              "  <thead>\n",
              "    <tr style=\"text-align: right;\">\n",
              "      <th></th>\n",
              "      <th>duration</th>\n",
              "      <th>waiting</th>\n",
              "      <th>kind</th>\n",
              "    </tr>\n",
              "  </thead>\n",
              "  <tbody>\n",
              "    <tr>\n",
              "      <th>0</th>\n",
              "      <td>3.600</td>\n",
              "      <td>79</td>\n",
              "      <td>long</td>\n",
              "    </tr>\n",
              "    <tr>\n",
              "      <th>1</th>\n",
              "      <td>1.800</td>\n",
              "      <td>54</td>\n",
              "      <td>short</td>\n",
              "    </tr>\n",
              "    <tr>\n",
              "      <th>2</th>\n",
              "      <td>3.333</td>\n",
              "      <td>74</td>\n",
              "      <td>long</td>\n",
              "    </tr>\n",
              "    <tr>\n",
              "      <th>3</th>\n",
              "      <td>2.283</td>\n",
              "      <td>62</td>\n",
              "      <td>short</td>\n",
              "    </tr>\n",
              "    <tr>\n",
              "      <th>4</th>\n",
              "      <td>4.533</td>\n",
              "      <td>85</td>\n",
              "      <td>long</td>\n",
              "    </tr>\n",
              "  </tbody>\n",
              "</table>\n",
              "</div>"
            ],
            "text/plain": [
              "   duration  waiting   kind\n",
              "0     3.600       79   long\n",
              "1     1.800       54  short\n",
              "2     3.333       74   long\n",
              "3     2.283       62  short\n",
              "4     4.533       85   long"
            ]
          },
          "execution_count": 3,
          "metadata": {},
          "output_type": "execute_result"
        }
      ],
      "source": [
        "geyser.head()"
      ]
    },
    {
      "cell_type": "markdown",
      "metadata": {
        "nbgrader": {
          "grade": false,
          "grade_id": "cell-f8e0d04289d1c456",
          "locked": true,
          "schema_version": 1,
          "solution": false
        },
        "id": "2a6CVkuY9DRp"
      },
      "source": [
        "[Back to top](#Index:)\n",
        "\n",
        "## Problem 1\n",
        "\n",
        "### Creating an array of $\\theta$'s\n",
        "\n",
        "\n",
        "Below, create an array of 100 equally spaced values between -1 and 1.  Use the `np.linspace` method demonstrated in the lectures and assigned your answer as a numpy array to `thetas` below."
      ]
    },
    {
      "cell_type": "code",
      "execution_count": null,
      "metadata": {
        "nbgrader": {
          "grade": false,
          "grade_id": "cell-aec7c884b51f8b43",
          "locked": false,
          "schema_version": 1,
          "solution": true
        },
        "id": "scAZFD3O9DRp",
        "outputId": "5d945baa-c273-44d5-d69a-d893c74e7d66"
      },
      "outputs": [
        {
          "name": "stdout",
          "output_type": "stream",
          "text": [
            "<class 'numpy.ndarray'>\n",
            "(100,)\n"
          ]
        }
      ],
      "source": [
        "\n",
        "\n",
        "thetas = ''\n",
        "\n",
        "\n",
        "# Answer check\n",
        "print(type(thetas))\n",
        "print(thetas.shape)"
      ]
    },
    {
      "cell_type": "markdown",
      "metadata": {
        "nbgrader": {
          "grade": false,
          "grade_id": "cell-c653fe4544754dc7",
          "locked": true,
          "schema_version": 1,
          "solution": false
        },
        "id": "lUzCy9mC9DRp"
      },
      "source": [
        "[Back to top](#Index:)\n",
        "\n",
        "## Problem 2\n",
        "\n",
        "### The Model\n",
        "\n",
        "\n",
        "\n",
        "In this assignment, our model takes the form:\n",
        "\n",
        "$$\\text{duration} = \\text{waiting} \\times \\theta$$\n",
        "\n",
        "Multiply the values in the `waiting` column of the `geyser` dataset by `0.8` to create a prediction for the case of $\\theta = 0.8$. Assign them as a Series to the variable `prediction` below."
      ]
    },
    {
      "cell_type": "code",
      "execution_count": null,
      "metadata": {
        "nbgrader": {
          "grade": false,
          "grade_id": "cell-40948b174cdc8501",
          "locked": false,
          "schema_version": 1,
          "solution": true
        },
        "id": "VlPGInYm9DRp",
        "outputId": "f1fa37f4-9816-4fdc-e281-c794c6c65906"
      },
      "outputs": [
        {
          "name": "stdout",
          "output_type": "stream",
          "text": [
            "<class 'str'>\n"
          ]
        },
        {
          "ename": "AttributeError",
          "evalue": "'str' object has no attribute 'shape'",
          "output_type": "error",
          "traceback": [
            "\u001b[0;31m---------------------------------------------------------------------------\u001b[0m",
            "\u001b[0;31mAttributeError\u001b[0m                            Traceback (most recent call last)",
            "Cell \u001b[0;32mIn[1], line 5\u001b[0m\n\u001b[1;32m      3\u001b[0m \u001b[38;5;66;03m# Answer check\u001b[39;00m\n\u001b[1;32m      4\u001b[0m \u001b[38;5;28mprint\u001b[39m(\u001b[38;5;28mtype\u001b[39m(prediction))\n\u001b[0;32m----> 5\u001b[0m \u001b[38;5;28mprint\u001b[39m(\u001b[43mprediction\u001b[49m\u001b[38;5;241;43m.\u001b[39;49m\u001b[43mshape\u001b[49m)\n",
            "\u001b[0;31mAttributeError\u001b[0m: 'str' object has no attribute 'shape'"
          ]
        }
      ],
      "source": [
        "\n",
        "\n",
        "prediction = ''\n",
        "\n",
        "# Answer check\n",
        "print(type(prediction))\n",
        "print(prediction.shape)"
      ]
    },
    {
      "cell_type": "markdown",
      "metadata": {
        "id": "QY2DV0So9DRq"
      },
      "source": [
        "[Back to top](#Index:)\n",
        "\n",
        "## Problem 3\n",
        "\n",
        "### Determining Mean Squared Error\n",
        "\n",
        "\n",
        "\n",
        "\n",
        "Use the `mean_squared_error` function to calculate the MSE between the `duration` column of the `geyser` DataFrame and the `0.8*geyser['waiting']` data.\n",
        "\n",
        "Use the function `float` to convert your result to floats.\n",
        "\n",
        "Assign your result as a float to `mse` below."
      ]
    },
    {
      "cell_type": "code",
      "execution_count": null,
      "metadata": {
        "nbgrader": {
          "grade": false,
          "grade_id": "cell-888d17b4527cbe61",
          "locked": false,
          "schema_version": 1,
          "solution": true
        },
        "id": "o-4-JptO9DRq",
        "outputId": "8c63ca14-6ce2-4b9c-ffc6-b185ee155cb2"
      },
      "outputs": [
        {
          "name": "stdout",
          "output_type": "stream",
          "text": [
            "<class 'float'>\n",
            "2930.2861285845593\n"
          ]
        }
      ],
      "source": [
        "\n",
        "\n",
        "mse = ''\n",
        "\n",
        "\n",
        "# Answer check\n",
        "print(type(mse))\n",
        "print(mse)"
      ]
    },
    {
      "cell_type": "markdown",
      "metadata": {
        "nbgrader": {
          "grade": false,
          "grade_id": "cell-7b12595a47f08985",
          "locked": true,
          "schema_version": 1,
          "solution": false
        },
        "id": "BBzO19NO9DRq"
      },
      "source": [
        "[Back to top](#Index:)\n",
        "\n",
        "## Problem 4\n",
        "\n",
        "### Computing the Mean Squared Error for `thetas`\n",
        "\n",
        "\n",
        "\n",
        "Use a `for` loop over `thetas` to compute the MSE between the column `geyser['duration']` and the column `geyser['waiting']`multiplied by each value of `theta`.  Assign these values in order to the list `mses` below."
      ]
    },
    {
      "cell_type": "code",
      "execution_count": null,
      "metadata": {
        "nbgrader": {
          "grade": false,
          "grade_id": "cell-7f0acca5c4ae5d6c",
          "locked": false,
          "schema_version": 1,
          "solution": true
        },
        "id": "a1T1fO3a9DRq",
        "outputId": "7b1c85da-ac63-48dc-842d-6f5f1e3a1f58"
      },
      "outputs": [
        {
          "name": "stdout",
          "output_type": "stream",
          "text": [
            "<class 'list'>\n",
            "0\n",
            "[]\n"
          ]
        }
      ],
      "source": [
        "\n",
        "\n",
        "mses = []\n",
        "\n",
        "\n",
        "\n",
        "# Answer check\n",
        "print(type(mses))\n",
        "print(len(mses))\n",
        "print(mses[:10])"
      ]
    },
    {
      "cell_type": "markdown",
      "metadata": {
        "nbgrader": {
          "grade": false,
          "grade_id": "cell-42b6fecad516574e",
          "locked": true,
          "schema_version": 1,
          "solution": false
        },
        "id": "BRNkWH2V9DRq"
      },
      "source": [
        "[Back to top](#Index:)\n",
        "\n",
        "## Problem 5\n",
        "\n",
        "### Which $\\theta$ minimizes Mean Squared Error\n",
        "\n",
        "\n",
        "\n",
        "Using the list of `mses`, determine the value for $\\theta$ that minimized the mean squared error.  You may want to amend your loop above to check for the smallest value as the loop proceeds.  Assign your answer as a float to `theta_min` below."
      ]
    },
    {
      "cell_type": "code",
      "execution_count": null,
      "metadata": {
        "nbgrader": {
          "grade": false,
          "grade_id": "cell-a03ccd41fe22aac6",
          "locked": false,
          "schema_version": 1,
          "solution": true
        },
        "id": "_xxSQ1ps9DRq",
        "outputId": "0ee059a1-5d26-4454-e0f8-77c7ad591716"
      },
      "outputs": [
        {
          "name": "stdout",
          "output_type": "stream",
          "text": [
            "<class 'str'>\n"
          ]
        },
        {
          "ename": "NameError",
          "evalue": "name 'min_mse' is not defined",
          "output_type": "error",
          "traceback": [
            "\u001b[0;31m---------------------------------------------------------------------------\u001b[0m",
            "\u001b[0;31mNameError\u001b[0m                                 Traceback (most recent call last)",
            "Cell \u001b[0;32mIn[3], line 7\u001b[0m\n\u001b[1;32m      5\u001b[0m \u001b[38;5;66;03m# Answer check\u001b[39;00m\n\u001b[1;32m      6\u001b[0m \u001b[38;5;28mprint\u001b[39m(\u001b[38;5;28mtype\u001b[39m(theta_min))\n\u001b[0;32m----> 7\u001b[0m \u001b[38;5;28mprint\u001b[39m(\u001b[43mmin_mse\u001b[49m)\n\u001b[1;32m      8\u001b[0m \u001b[38;5;28mprint\u001b[39m(theta_min)\n",
            "\u001b[0;31mNameError\u001b[0m: name 'min_mse' is not defined"
          ]
        }
      ],
      "source": [
        "\n",
        "\n",
        "theta_min = ''\n",
        "\n",
        "\n",
        "\n",
        "# Answer check\n",
        "print(type(theta_min))\n",
        "print(min_mse)\n",
        "print(theta_min)"
      ]
    },
    {
      "cell_type": "markdown",
      "metadata": {
        "nbgrader": {
          "grade": false,
          "grade_id": "cell-84ec1ca3faa45312",
          "locked": true,
          "schema_version": 1,
          "solution": false
        },
        "id": "9H0A6fGQ9DRr"
      },
      "source": [
        "Note that, again, the shape of the Mean Squared Error is a parabola.  The plot below shows the values of thetas againt their mean squared error.  \n",
        "\n",
        "<center>\n",
        "    <img src = 'images/mse_min.png' >\n",
        "</center>"
      ]
    },
    {
      "cell_type": "code",
      "execution_count": null,
      "metadata": {
        "id": "E_0CAvdh9DRr"
      },
      "outputs": [],
      "source": [
        "#Code for Plot\n",
        "# plt.plot(thetas, mses)\n",
        "# plt.plot(thetas[np.argmin(mses)], min(mses), 'ro', label = 'Minimum')\n",
        "# plt.legend()\n",
        "# plt.title('Minimum MSE')\n",
        "# plt.xlabel(r'$\\theta$')\n",
        "# plt.ylabel('MSE')\n",
        "# plt.grid();\n",
        "# plt.savefig('images/mse_min.png')"
      ]
    }
  ],
  "metadata": {
    "celltoolbar": "Create Assignment",
    "kernelspec": {
      "display_name": "Python 3 (ipykernel)",
      "language": "python",
      "name": "python3"
    },
    "language_info": {
      "codemirror_mode": {
        "name": "ipython",
        "version": 3
      },
      "file_extension": ".py",
      "mimetype": "text/x-python",
      "name": "python",
      "nbconvert_exporter": "python",
      "pygments_lexer": "ipython3",
      "version": "3.12.1"
    },
    "colab": {
      "provenance": [],
      "include_colab_link": true
    }
  },
  "nbformat": 4,
  "nbformat_minor": 0
}