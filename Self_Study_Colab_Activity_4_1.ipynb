{
  "cells": [
    {
      "cell_type": "markdown",
      "metadata": {
        "id": "view-in-github",
        "colab_type": "text"
      },
      "source": [
        "<a href=\"https://colab.research.google.com/github/mobius29er/AIML_Class/blob/main/Self_Study_Colab_Activity_4_1.ipynb\" target=\"_parent\"><img src=\"https://colab.research.google.com/assets/colab-badge.svg\" alt=\"Open In Colab\"/></a>"
      ]
    },
    {
      "cell_type": "markdown",
      "metadata": {
        "nbgrader": {
          "grade": false,
          "grade_id": "cell-354110ad294fdabd",
          "locked": true,
          "schema_version": 1,
          "solution": false
        },
        "id": "hk8SRTCzZ0Tt"
      },
      "source": [
        "### Self-Study Colab Activity 4.1: Basic Joins on Datasets\n",
        "\n",
        "**Expected Time: 60 Minutes**\n",
        "\n",
        "\n",
        "This activity focuses on using the `merge` function to join DataFrames as seen in Videos 4.1 and 4.2.  Merging DataFrames allows the combination of data along a shared categorical column.  The DataFrames do not need to be the same shape, and depending on the arguments used, the result of a merge can contain different values.  Specifically, using different kinds of joins -- `inner, outer, left, right`, different DataFrames are produced.  \n",
        "\n",
        "## Index:\n",
        "\n",
        "- [Problem 1](#Problem-1)\n",
        "- [Problem 2](#Problem-2)\n",
        "- [Problem 3](#Problem-3)\n",
        "- [Problem 4](#Problem-4)\n",
        "- [Problem 5](#Problem-5)"
      ]
    },
    {
      "cell_type": "code",
      "execution_count": null,
      "metadata": {
        "nbgrader": {
          "grade": false,
          "grade_id": "cell-4be1f3558a1be6f6",
          "locked": true,
          "schema_version": 1,
          "solution": false
        },
        "id": "eXFuLe-gZ0Tv"
      },
      "outputs": [],
      "source": [
        "import pandas as pd"
      ]
    },
    {
      "cell_type": "markdown",
      "metadata": {
        "nbgrader": {
          "grade": false,
          "grade_id": "cell-fbf68e484022d892",
          "locked": true,
          "schema_version": 1,
          "solution": false
        },
        "id": "CsSaa86eZ0Tw"
      },
      "source": [
        "### The Data: Antarctic Weather Stations\n",
        "\n",
        "The dataset for this activity is four `.csv` files.  The file names and descriptions of the data are as follows:\n",
        "\n",
        "- `person.csv`: people who took readings.\n",
        "- `site.csv`: locations where readings were taken.\n",
        "- `visited.csv`: when readings were taken at specific sites.\n",
        "- `survey.csv`: the actual readings. The field quant is short for quantity and indicates what is being measured. Values are rad, sal, and temp referring to ‘radiation', ‘salinity’ and ‘temperature', respectively.\n",
        "\n",
        "Each dataset is loaded below, and basic info displayed."
      ]
    },
    {
      "cell_type": "code",
      "execution_count": null,
      "metadata": {
        "nbgrader": {
          "grade": false,
          "grade_id": "cell-939142c86569a4ed",
          "locked": true,
          "schema_version": 1,
          "solution": false
        },
        "id": "dOfAZ3KhZ0Tw"
      },
      "outputs": [],
      "source": [
        "site = pd.read_csv('data/site.csv')"
      ]
    },
    {
      "cell_type": "code",
      "execution_count": null,
      "metadata": {
        "nbgrader": {
          "grade": false,
          "grade_id": "cell-055af1ffb583146c",
          "locked": true,
          "schema_version": 1,
          "solution": false
        },
        "id": "Y4-idJcXZ0Tw"
      },
      "outputs": [],
      "source": [
        "site.head(2)"
      ]
    },
    {
      "cell_type": "code",
      "execution_count": null,
      "metadata": {
        "nbgrader": {
          "grade": false,
          "grade_id": "cell-065abae480af3cca",
          "locked": true,
          "schema_version": 1,
          "solution": false
        },
        "id": "wQWZ-Rh4Z0Tx"
      },
      "outputs": [],
      "source": [
        "site.info()"
      ]
    },
    {
      "cell_type": "code",
      "execution_count": null,
      "metadata": {
        "nbgrader": {
          "grade": false,
          "grade_id": "cell-2bef615c044cc365",
          "locked": true,
          "schema_version": 1,
          "solution": false
        },
        "id": "imk0ORjkZ0Tx"
      },
      "outputs": [],
      "source": [
        "visited = pd.read_csv('data/visited.csv')"
      ]
    },
    {
      "cell_type": "code",
      "execution_count": null,
      "metadata": {
        "nbgrader": {
          "grade": false,
          "grade_id": "cell-2ccdf5ff4162d9a7",
          "locked": true,
          "schema_version": 1,
          "solution": false
        },
        "id": "jyJAHL1HZ0Tx"
      },
      "outputs": [],
      "source": [
        "visited.head(2)"
      ]
    },
    {
      "cell_type": "code",
      "execution_count": null,
      "metadata": {
        "nbgrader": {
          "grade": false,
          "grade_id": "cell-43c560fe484b1323",
          "locked": true,
          "schema_version": 1,
          "solution": false
        },
        "id": "ei5SOBv8Z0Ty"
      },
      "outputs": [],
      "source": [
        "visited.info()"
      ]
    },
    {
      "cell_type": "code",
      "execution_count": null,
      "metadata": {
        "nbgrader": {
          "grade": false,
          "grade_id": "cell-15f5bdde07356ce5",
          "locked": true,
          "schema_version": 1,
          "solution": false
        },
        "id": "uoNK_0QXZ0Ty"
      },
      "outputs": [],
      "source": [
        "person = pd.read_csv('data/person.csv')\n",
        "person.head(2)"
      ]
    },
    {
      "cell_type": "code",
      "execution_count": null,
      "metadata": {
        "nbgrader": {
          "grade": false,
          "grade_id": "cell-1c0960bd7c1f4000",
          "locked": true,
          "schema_version": 1,
          "solution": false
        },
        "id": "_PtI9F87Z0Ty"
      },
      "outputs": [],
      "source": [
        "survey = pd.read_csv('data/survey.csv')\n",
        "survey.head(2)"
      ]
    },
    {
      "cell_type": "code",
      "execution_count": null,
      "metadata": {
        "nbgrader": {
          "grade": false,
          "grade_id": "cell-fdf723155cdb59c7",
          "locked": true,
          "schema_version": 1,
          "solution": false
        },
        "id": "WgO9kUYgZ0Ty"
      },
      "outputs": [],
      "source": [
        "survey.info()"
      ]
    },
    {
      "cell_type": "markdown",
      "metadata": {
        "nbgrader": {
          "grade": false,
          "grade_id": "cell-2cc8eafd85568457",
          "locked": true,
          "schema_version": 1,
          "solution": false
        },
        "id": "7EaCXuv8Z0Ty"
      },
      "source": [
        "[Back to top](#Index:)\n",
        "\n",
        "### Problem 1\n",
        "\n",
        "#### Merging site and visited\n",
        "\n",
        "\n",
        "Note that in the `site` data, the `name` column contains the same information as in the `visited` data `name` column.  Use  `pd.merge` to merge the `site` DataFame with the `visited` one based on the shared column.  Use `site` as your left DataFrame and `visited` as your right.  Assign your result as a DataFrame to `site_visits_df` below."
      ]
    },
    {
      "cell_type": "code",
      "execution_count": null,
      "metadata": {
        "nbgrader": {
          "grade": false,
          "grade_id": "cell-c291ddf4dbdf92c8",
          "locked": false,
          "schema_version": 1,
          "solution": true
        },
        "id": "Hep0X6UlZ0Ty"
      },
      "outputs": [],
      "source": [
        "\n",
        "\n",
        "site_visits_df = None\n",
        "\n",
        "\n",
        "\n",
        "# Answer check\n",
        "print(type(site_visits_df), site_visits_df.shape)\n",
        "print(site_visits_df.head())\n"
      ]
    },
    {
      "cell_type": "markdown",
      "metadata": {
        "nbgrader": {
          "grade": false,
          "grade_id": "cell-5df0218f63430dd4",
          "locked": true,
          "schema_version": 1,
          "solution": false
        },
        "id": "fkHUoiDTZ0Tz"
      },
      "source": [
        "[Back to top](#Index:)\n",
        "\n",
        "### Problem 2\n",
        "\n",
        "#### Revisit with shared Column Name\n",
        "\n",
        "\n",
        "\n",
        "\n",
        "Use the `rename` function to rename the `visited` `site` column to `name` and assign it to the variable `visited_renamed`.\n",
        "\n",
        "Merge the `site` and the `visited_renamed` Dataframes on `name` and assign the result of the merge to `site_visits_df2` below.  \n",
        "\n",
        "Note that your solution should have one column fewer than the solution to Problem 1."
      ]
    },
    {
      "cell_type": "code",
      "execution_count": null,
      "metadata": {
        "nbgrader": {
          "grade": false,
          "grade_id": "cell-53dd859c6dc5a027",
          "locked": false,
          "schema_version": 1,
          "solution": true
        },
        "id": "osEvbZj4Z0Tz"
      },
      "outputs": [],
      "source": [
        "\n",
        "\n",
        "visited_renamed = None\n",
        "site_visits_df2 = None\n",
        "\n",
        "\n",
        "\n",
        "# Answer check\n",
        "print(site_visits_df2.shape)\n",
        "site_visits_df2.head()"
      ]
    },
    {
      "cell_type": "markdown",
      "metadata": {
        "nbgrader": {
          "grade": false,
          "grade_id": "cell-84e1faffcfa8772f",
          "locked": true,
          "schema_version": 1,
          "solution": false
        },
        "id": "setBGzlhZ0Tz"
      },
      "source": [
        "[Back to top](#Index:)\n",
        "\n",
        "### Problem 3\n",
        "\n",
        "#### Merging the Survey Results\n",
        "\n",
        "\n",
        "\n",
        "The effect of merging the `site` and `visited` is that a DataFrame with each site's name, location, visit id, and date has been created.\n",
        "\n",
        "To include the data collected at each site in these visits, the survey data needs to be consulted.  \n",
        "\n",
        "Identify the shared column in the `site_visits_df2` data and the `survey` data, and merge the data based on this column.  \n",
        "\n",
        "Rename the column in the `survey` frame from `taken` to `id` not to have a redundant column in the data and assign your merged DataFrame to `survey_site_visits` below."
      ]
    },
    {
      "cell_type": "code",
      "execution_count": null,
      "metadata": {
        "nbgrader": {
          "grade": false,
          "grade_id": "cell-57ab5accf3fb170d",
          "locked": true,
          "schema_version": 1,
          "solution": false
        },
        "id": "JDjbg_QWZ0Tz"
      },
      "outputs": [],
      "source": [
        "site_visits_df2.head(2)"
      ]
    },
    {
      "cell_type": "code",
      "execution_count": null,
      "metadata": {
        "nbgrader": {
          "grade": false,
          "grade_id": "cell-a13102fe6c43518b",
          "locked": true,
          "schema_version": 1,
          "solution": false
        },
        "id": "0yjtQ1qUZ0Tz"
      },
      "outputs": [],
      "source": [
        "survey.head(2)"
      ]
    },
    {
      "cell_type": "code",
      "execution_count": null,
      "metadata": {
        "nbgrader": {
          "grade": false,
          "grade_id": "cell-88cfbb769a581192",
          "locked": false,
          "schema_version": 1,
          "solution": true
        },
        "id": "t6pi3SaIZ0Tz"
      },
      "outputs": [],
      "source": [
        "\n",
        "\n",
        "survey_site_visits = None\n",
        "\n",
        "\n",
        "# Answer check\n",
        "print(survey_site_visits)\n",
        "print(type(survey_site_visits))"
      ]
    },
    {
      "cell_type": "markdown",
      "metadata": {
        "nbgrader": {
          "grade": false,
          "grade_id": "cell-9e9f9b3f2cdfcb6d",
          "locked": true,
          "schema_version": 1,
          "solution": false
        },
        "id": "pyWb_3H-Z0Tz"
      },
      "source": [
        "[Back to top](#Index:)\n",
        "\n",
        "### Problem 4\n",
        "\n",
        "### Adding Full Names\n",
        "\n",
        "\n",
        "\n",
        "Use the `rename` function to rename the `survey_site_visits` `person` column to `person_id` and assign it to the variable `left`.\n",
        "\n",
        "Use the `rename` function to rename the `person` `id` column to `person_id` and assign it to the variable `right`.\n",
        "\n",
        "Merge the `left` and the `right` Dataframes on `person_id` and assign the result of the merge to `full_name_df`. below.  \n"
      ]
    },
    {
      "cell_type": "code",
      "execution_count": null,
      "metadata": {
        "nbgrader": {
          "grade": false,
          "grade_id": "cell-5eb0b993d2f7e755",
          "locked": false,
          "schema_version": 1,
          "solution": true
        },
        "id": "Q7u2T-5JZ0Tz"
      },
      "outputs": [],
      "source": [
        "\n",
        "\n",
        "\n",
        "left =\n",
        "right =\n",
        "full_name_df =\n",
        "\n",
        "\n",
        "# Answer check\n",
        "print(type(full_name_df))\n",
        "full_name_df.head(2)"
      ]
    },
    {
      "cell_type": "markdown",
      "metadata": {
        "nbgrader": {
          "grade": false,
          "grade_id": "cell-d8aa95ba8e65eff0",
          "locked": true,
          "schema_version": 1,
          "solution": false
        },
        "id": "UzaHl4RcZ0Tz"
      },
      "source": [
        "[Back to top](#Index:)\n",
        "\n",
        "### Problem 5\n",
        "\n",
        "#### `left` vs. `right` merge\n",
        "\n",
        "\n",
        "\n",
        "Below two new DataFrames -- `df1` and `df2` -- are created with the shared column `name`.  Note the different unique values in the `name` column in each.  Use `pd.merge` and choose the appropriate argument for `how` as either `left` or `right` to create the following table:\n",
        "\n",
        "<table border=\"1\" class=\"dataframe\">  <thead>    <tr style=\"text-align: right;\">      <th></th>      <th>name</th>      <th>age</th>      <th>member</th>    </tr>  </thead>  <tbody>    <tr>      <th>0</th>      <td>amy</td>      <td>32</td>      <td>True</td>    </tr>    <tr>      <th>1</th>      <td>ben</td>      <td>30</td>      <td>NaN</td>    </tr>    <tr>      <th>2</th>      <td>carlos</td>      <td>40</td>      <td>True</td>    </tr>  </tbody></table>\n",
        "\n",
        "Assign your results to `ans5` below."
      ]
    },
    {
      "cell_type": "code",
      "execution_count": null,
      "metadata": {
        "nbgrader": {
          "grade": false,
          "grade_id": "cell-9a1174962aa1833b",
          "locked": true,
          "schema_version": 1,
          "solution": false
        },
        "id": "7MEao4IsZ0T0"
      },
      "outputs": [],
      "source": [
        "df1 = pd.DataFrame({'name': ['amy', 'ben', 'carlos'],\n",
        "                   'age': [32, 30, 40]})\n",
        "df2 = pd.DataFrame({'name': ['amy', 'carlos', 'lenny'],\n",
        "                   'member': [True, True, False]})"
      ]
    },
    {
      "cell_type": "code",
      "execution_count": null,
      "metadata": {
        "nbgrader": {
          "grade": false,
          "grade_id": "cell-0fcb95eabc8646f0",
          "locked": false,
          "schema_version": 1,
          "solution": true
        },
        "id": "Bh46PNF6Z0T0"
      },
      "outputs": [],
      "source": [
        "\n",
        "\n",
        "ans5 = None\n",
        "\n",
        "\n",
        "# Answer check\n",
        "print(type(ans5))\n",
        "ans5.head(2)"
      ]
    },
    {
      "cell_type": "code",
      "execution_count": null,
      "metadata": {
        "id": "OVSRsqIRZ0T0"
      },
      "outputs": [],
      "source": []
    }
  ],
  "metadata": {
    "celltoolbar": "Create Assignment",
    "kernelspec": {
      "display_name": "Python 3 (ipykernel)",
      "language": "python",
      "name": "python3"
    },
    "language_info": {
      "codemirror_mode": {
        "name": "ipython",
        "version": 3
      },
      "file_extension": ".py",
      "mimetype": "text/x-python",
      "name": "python",
      "nbconvert_exporter": "python",
      "pygments_lexer": "ipython3",
      "version": "3.12.1"
    },
    "colab": {
      "provenance": [],
      "include_colab_link": true
    }
  },
  "nbformat": 4,
  "nbformat_minor": 0
}