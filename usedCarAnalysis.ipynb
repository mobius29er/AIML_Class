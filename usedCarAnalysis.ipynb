{
  "cells": [
    {
      "cell_type": "markdown",
      "metadata": {
        "id": "view-in-github",
        "colab_type": "text"
      },
      "source": [
        "<a href=\"https://colab.research.google.com/github/mobius29er/AIML_Class/blob/main/usedCarAnalysis.ipynb\" target=\"_parent\"><img src=\"https://colab.research.google.com/assets/colab-badge.svg\" alt=\"Open In Colab\"/></a>"
      ]
    },
    {
      "cell_type": "markdown",
      "metadata": {
        "id": "IMTnSFgDPqsX"
      },
      "source": [
        "# What drives the price of a car?\n",
        "\n",
        "![](images/kurt.jpeg)"
      ]
    },
    {
      "cell_type": "markdown",
      "metadata": {
        "id": "mONWEuQzPqsY"
      },
      "source": [
        "**OVERVIEW**\n",
        "\n",
        "In this application, you will explore a dataset from Kaggle. The original dataset contained information on 3 million used cars. The provided dataset contains information on 426K cars to ensure speed of processing.  Your goal is to understand what factors make a car more or less expensive.  As a result of your analysis, you should provide clear recommendations to your client -- a used car dealership -- as to what consumers value in a used car."
      ]
    },
    {
      "cell_type": "code",
      "source": [
        "from google.colab import drive\n",
        "drive.mount('/content/drive')"
      ],
      "metadata": {
        "colab": {
          "base_uri": "https://localhost:8080/"
        },
        "id": "84Q6ch0C1D_m",
        "outputId": "571d548d-903a-4cd4-e6ea-a14ca74c0a17"
      },
      "execution_count": 842,
      "outputs": [
        {
          "output_type": "stream",
          "name": "stdout",
          "text": [
            "Drive already mounted at /content/drive; to attempt to forcibly remount, call drive.mount(\"/content/drive\", force_remount=True).\n"
          ]
        }
      ]
    },
    {
      "cell_type": "code",
      "source": [
        "import pandas as pd\n",
        "import numpy as np\n",
        "import matplotlib.pyplot as plt\n",
        "import seaborn as sns\n",
        "from sklearn.preprocessing import StandardScaler\n",
        "import re\n",
        "from sklearn.model_selection import train_test_split\n",
        "from sklearn.linear_model import LinearRegression, Ridge, Lasso\n",
        "from sklearn.metrics import mean_squared_error, r2_score\n",
        "from sklearn.model_selection import cross_val_score"
      ],
      "metadata": {
        "id": "V5bBpOWUDVKG"
      },
      "execution_count": 843,
      "outputs": []
    },
    {
      "cell_type": "markdown",
      "metadata": {
        "id": "RGL0kOrzPqsY"
      },
      "source": [
        "### CRISP-DM Framework\n",
        "\n",
        "<center>\n",
        "    <img src = images/crisp.png width = 50%/>\n",
        "</center>\n",
        "\n",
        "\n",
        "To frame the task, throughout our practical applications, we will refer back to a standard process in industry for data projects called CRISP-DM.  This process provides a framework for working through a data problem.  Your first step in this application will be to read through a brief overview of CRISP-DM [here](https://mo-pcco.s3.us-east-1.amazonaws.com/BH-PCMLAI/module_11/readings_starter.zip).  After reading the overview, answer the questions below."
      ]
    },
    {
      "cell_type": "markdown",
      "metadata": {
        "id": "SgVh9DJlPqsY"
      },
      "source": [
        "### Business Understanding\n",
        "\n",
        "From a business perspective, we are tasked with identifying key drivers for used car prices.  In the CRISP-DM overview, we are asked to convert this business framing to a data problem definition.  Using a few sentences, reframe the task as a data task with the appropriate technical vocabulary."
      ]
    },
    {
      "cell_type": "markdown",
      "source": [
        "Business Goal:\n",
        "\n",
        "The used car dealership wants to understand what makes some used cars more valuable than others, so they can make better inventory and pricing decisions."
      ],
      "metadata": {
        "id": "GK0k1rEtAHBC"
      }
    },
    {
      "cell_type": "markdown",
      "source": [
        "Task:\n",
        "\n",
        "We aim to build a predictive regression model that estimates a car’s resale price based on its features (e.g., make, model, year, mileage, condition). This model will help identify the attributes most strongly correlated with higher or lower vehicle prices."
      ],
      "metadata": {
        "id": "DrCoSNZj7cNM"
      }
    },
    {
      "cell_type": "markdown",
      "metadata": {
        "id": "4R8VpVdtPqsZ"
      },
      "source": [
        "### Data Understanding\n",
        "\n",
        "After considering the business understanding, we want to get familiar with our data.  Write down some steps that you would take to get to know the dataset and identify any quality issues within.  Take time to get to know the dataset and explore what information it contains and how this could be used to inform your business understanding."
      ]
    },
    {
      "cell_type": "markdown",
      "source": [
        "### **Collect Initial Data:**"
      ],
      "metadata": {
        "id": "zQenMenYA0nW"
      }
    },
    {
      "cell_type": "code",
      "execution_count": 844,
      "metadata": {
        "colab": {
          "base_uri": "https://localhost:8080/"
        },
        "id": "NosehkMLPqsZ",
        "outputId": "53e47ecc-5e85-443e-b8d1-00ee755593af"
      },
      "outputs": [
        {
          "output_type": "stream",
          "name": "stdout",
          "text": [
            "Dataset contains 426880 rows and 18 columns.\n"
          ]
        }
      ],
      "source": [
        "df = pd.read_csv('data/vehicles.csv')\n",
        "# Initial Data Collection Report\n",
        "print(f\"Dataset contains {df.shape[0]} rows and {df.shape[1]} columns.\")"
      ]
    },
    {
      "cell_type": "markdown",
      "source": [
        "### **Describe Data:**"
      ],
      "metadata": {
        "id": "70VWrL7hDHtL"
      }
    },
    {
      "cell_type": "code",
      "source": [
        "df.head()"
      ],
      "metadata": {
        "colab": {
          "base_uri": "https://localhost:8080/",
          "height": 206
        },
        "id": "XIDv6ZSYLZWp",
        "outputId": "16b33669-726d-4538-8bb9-c4ccbe27a517"
      },
      "execution_count": 845,
      "outputs": [
        {
          "output_type": "execute_result",
          "data": {
            "text/plain": [
              "           id                  region  price  year manufacturer model  \\\n",
              "0  7222695916                prescott   6000   NaN          NaN   NaN   \n",
              "1  7218891961            fayetteville  11900   NaN          NaN   NaN   \n",
              "2  7221797935            florida keys  21000   NaN          NaN   NaN   \n",
              "3  7222270760  worcester / central MA   1500   NaN          NaN   NaN   \n",
              "4  7210384030              greensboro   4900   NaN          NaN   NaN   \n",
              "\n",
              "  condition cylinders fuel  odometer title_status transmission  VIN drive  \\\n",
              "0       NaN       NaN  NaN       NaN          NaN          NaN  NaN   NaN   \n",
              "1       NaN       NaN  NaN       NaN          NaN          NaN  NaN   NaN   \n",
              "2       NaN       NaN  NaN       NaN          NaN          NaN  NaN   NaN   \n",
              "3       NaN       NaN  NaN       NaN          NaN          NaN  NaN   NaN   \n",
              "4       NaN       NaN  NaN       NaN          NaN          NaN  NaN   NaN   \n",
              "\n",
              "  size type paint_color state  \n",
              "0  NaN  NaN         NaN    az  \n",
              "1  NaN  NaN         NaN    ar  \n",
              "2  NaN  NaN         NaN    fl  \n",
              "3  NaN  NaN         NaN    ma  \n",
              "4  NaN  NaN         NaN    nc  "
            ],
            "text/html": [
              "\n",
              "  <div id=\"df-f020ec6f-21ff-4a58-8dcc-aadd20bc0182\" class=\"colab-df-container\">\n",
              "    <div>\n",
              "<style scoped>\n",
              "    .dataframe tbody tr th:only-of-type {\n",
              "        vertical-align: middle;\n",
              "    }\n",
              "\n",
              "    .dataframe tbody tr th {\n",
              "        vertical-align: top;\n",
              "    }\n",
              "\n",
              "    .dataframe thead th {\n",
              "        text-align: right;\n",
              "    }\n",
              "</style>\n",
              "<table border=\"1\" class=\"dataframe\">\n",
              "  <thead>\n",
              "    <tr style=\"text-align: right;\">\n",
              "      <th></th>\n",
              "      <th>id</th>\n",
              "      <th>region</th>\n",
              "      <th>price</th>\n",
              "      <th>year</th>\n",
              "      <th>manufacturer</th>\n",
              "      <th>model</th>\n",
              "      <th>condition</th>\n",
              "      <th>cylinders</th>\n",
              "      <th>fuel</th>\n",
              "      <th>odometer</th>\n",
              "      <th>title_status</th>\n",
              "      <th>transmission</th>\n",
              "      <th>VIN</th>\n",
              "      <th>drive</th>\n",
              "      <th>size</th>\n",
              "      <th>type</th>\n",
              "      <th>paint_color</th>\n",
              "      <th>state</th>\n",
              "    </tr>\n",
              "  </thead>\n",
              "  <tbody>\n",
              "    <tr>\n",
              "      <th>0</th>\n",
              "      <td>7222695916</td>\n",
              "      <td>prescott</td>\n",
              "      <td>6000</td>\n",
              "      <td>NaN</td>\n",
              "      <td>NaN</td>\n",
              "      <td>NaN</td>\n",
              "      <td>NaN</td>\n",
              "      <td>NaN</td>\n",
              "      <td>NaN</td>\n",
              "      <td>NaN</td>\n",
              "      <td>NaN</td>\n",
              "      <td>NaN</td>\n",
              "      <td>NaN</td>\n",
              "      <td>NaN</td>\n",
              "      <td>NaN</td>\n",
              "      <td>NaN</td>\n",
              "      <td>NaN</td>\n",
              "      <td>az</td>\n",
              "    </tr>\n",
              "    <tr>\n",
              "      <th>1</th>\n",
              "      <td>7218891961</td>\n",
              "      <td>fayetteville</td>\n",
              "      <td>11900</td>\n",
              "      <td>NaN</td>\n",
              "      <td>NaN</td>\n",
              "      <td>NaN</td>\n",
              "      <td>NaN</td>\n",
              "      <td>NaN</td>\n",
              "      <td>NaN</td>\n",
              "      <td>NaN</td>\n",
              "      <td>NaN</td>\n",
              "      <td>NaN</td>\n",
              "      <td>NaN</td>\n",
              "      <td>NaN</td>\n",
              "      <td>NaN</td>\n",
              "      <td>NaN</td>\n",
              "      <td>NaN</td>\n",
              "      <td>ar</td>\n",
              "    </tr>\n",
              "    <tr>\n",
              "      <th>2</th>\n",
              "      <td>7221797935</td>\n",
              "      <td>florida keys</td>\n",
              "      <td>21000</td>\n",
              "      <td>NaN</td>\n",
              "      <td>NaN</td>\n",
              "      <td>NaN</td>\n",
              "      <td>NaN</td>\n",
              "      <td>NaN</td>\n",
              "      <td>NaN</td>\n",
              "      <td>NaN</td>\n",
              "      <td>NaN</td>\n",
              "      <td>NaN</td>\n",
              "      <td>NaN</td>\n",
              "      <td>NaN</td>\n",
              "      <td>NaN</td>\n",
              "      <td>NaN</td>\n",
              "      <td>NaN</td>\n",
              "      <td>fl</td>\n",
              "    </tr>\n",
              "    <tr>\n",
              "      <th>3</th>\n",
              "      <td>7222270760</td>\n",
              "      <td>worcester / central MA</td>\n",
              "      <td>1500</td>\n",
              "      <td>NaN</td>\n",
              "      <td>NaN</td>\n",
              "      <td>NaN</td>\n",
              "      <td>NaN</td>\n",
              "      <td>NaN</td>\n",
              "      <td>NaN</td>\n",
              "      <td>NaN</td>\n",
              "      <td>NaN</td>\n",
              "      <td>NaN</td>\n",
              "      <td>NaN</td>\n",
              "      <td>NaN</td>\n",
              "      <td>NaN</td>\n",
              "      <td>NaN</td>\n",
              "      <td>NaN</td>\n",
              "      <td>ma</td>\n",
              "    </tr>\n",
              "    <tr>\n",
              "      <th>4</th>\n",
              "      <td>7210384030</td>\n",
              "      <td>greensboro</td>\n",
              "      <td>4900</td>\n",
              "      <td>NaN</td>\n",
              "      <td>NaN</td>\n",
              "      <td>NaN</td>\n",
              "      <td>NaN</td>\n",
              "      <td>NaN</td>\n",
              "      <td>NaN</td>\n",
              "      <td>NaN</td>\n",
              "      <td>NaN</td>\n",
              "      <td>NaN</td>\n",
              "      <td>NaN</td>\n",
              "      <td>NaN</td>\n",
              "      <td>NaN</td>\n",
              "      <td>NaN</td>\n",
              "      <td>NaN</td>\n",
              "      <td>nc</td>\n",
              "    </tr>\n",
              "  </tbody>\n",
              "</table>\n",
              "</div>\n",
              "    <div class=\"colab-df-buttons\">\n",
              "\n",
              "  <div class=\"colab-df-container\">\n",
              "    <button class=\"colab-df-convert\" onclick=\"convertToInteractive('df-f020ec6f-21ff-4a58-8dcc-aadd20bc0182')\"\n",
              "            title=\"Convert this dataframe to an interactive table.\"\n",
              "            style=\"display:none;\">\n",
              "\n",
              "  <svg xmlns=\"http://www.w3.org/2000/svg\" height=\"24px\" viewBox=\"0 -960 960 960\">\n",
              "    <path d=\"M120-120v-720h720v720H120Zm60-500h600v-160H180v160Zm220 220h160v-160H400v160Zm0 220h160v-160H400v160ZM180-400h160v-160H180v160Zm440 0h160v-160H620v160ZM180-180h160v-160H180v160Zm440 0h160v-160H620v160Z\"/>\n",
              "  </svg>\n",
              "    </button>\n",
              "\n",
              "  <style>\n",
              "    .colab-df-container {\n",
              "      display:flex;\n",
              "      gap: 12px;\n",
              "    }\n",
              "\n",
              "    .colab-df-convert {\n",
              "      background-color: #E8F0FE;\n",
              "      border: none;\n",
              "      border-radius: 50%;\n",
              "      cursor: pointer;\n",
              "      display: none;\n",
              "      fill: #1967D2;\n",
              "      height: 32px;\n",
              "      padding: 0 0 0 0;\n",
              "      width: 32px;\n",
              "    }\n",
              "\n",
              "    .colab-df-convert:hover {\n",
              "      background-color: #E2EBFA;\n",
              "      box-shadow: 0px 1px 2px rgba(60, 64, 67, 0.3), 0px 1px 3px 1px rgba(60, 64, 67, 0.15);\n",
              "      fill: #174EA6;\n",
              "    }\n",
              "\n",
              "    .colab-df-buttons div {\n",
              "      margin-bottom: 4px;\n",
              "    }\n",
              "\n",
              "    [theme=dark] .colab-df-convert {\n",
              "      background-color: #3B4455;\n",
              "      fill: #D2E3FC;\n",
              "    }\n",
              "\n",
              "    [theme=dark] .colab-df-convert:hover {\n",
              "      background-color: #434B5C;\n",
              "      box-shadow: 0px 1px 3px 1px rgba(0, 0, 0, 0.15);\n",
              "      filter: drop-shadow(0px 1px 2px rgba(0, 0, 0, 0.3));\n",
              "      fill: #FFFFFF;\n",
              "    }\n",
              "  </style>\n",
              "\n",
              "    <script>\n",
              "      const buttonEl =\n",
              "        document.querySelector('#df-f020ec6f-21ff-4a58-8dcc-aadd20bc0182 button.colab-df-convert');\n",
              "      buttonEl.style.display =\n",
              "        google.colab.kernel.accessAllowed ? 'block' : 'none';\n",
              "\n",
              "      async function convertToInteractive(key) {\n",
              "        const element = document.querySelector('#df-f020ec6f-21ff-4a58-8dcc-aadd20bc0182');\n",
              "        const dataTable =\n",
              "          await google.colab.kernel.invokeFunction('convertToInteractive',\n",
              "                                                    [key], {});\n",
              "        if (!dataTable) return;\n",
              "\n",
              "        const docLinkHtml = 'Like what you see? Visit the ' +\n",
              "          '<a target=\"_blank\" href=https://colab.research.google.com/notebooks/data_table.ipynb>data table notebook</a>'\n",
              "          + ' to learn more about interactive tables.';\n",
              "        element.innerHTML = '';\n",
              "        dataTable['output_type'] = 'display_data';\n",
              "        await google.colab.output.renderOutput(dataTable, element);\n",
              "        const docLink = document.createElement('div');\n",
              "        docLink.innerHTML = docLinkHtml;\n",
              "        element.appendChild(docLink);\n",
              "      }\n",
              "    </script>\n",
              "  </div>\n",
              "\n",
              "\n",
              "    <div id=\"df-5ed8b78c-d0b6-44ba-bd8f-de1099ebb02c\">\n",
              "      <button class=\"colab-df-quickchart\" onclick=\"quickchart('df-5ed8b78c-d0b6-44ba-bd8f-de1099ebb02c')\"\n",
              "                title=\"Suggest charts\"\n",
              "                style=\"display:none;\">\n",
              "\n",
              "<svg xmlns=\"http://www.w3.org/2000/svg\" height=\"24px\"viewBox=\"0 0 24 24\"\n",
              "     width=\"24px\">\n",
              "    <g>\n",
              "        <path d=\"M19 3H5c-1.1 0-2 .9-2 2v14c0 1.1.9 2 2 2h14c1.1 0 2-.9 2-2V5c0-1.1-.9-2-2-2zM9 17H7v-7h2v7zm4 0h-2V7h2v10zm4 0h-2v-4h2v4z\"/>\n",
              "    </g>\n",
              "</svg>\n",
              "      </button>\n",
              "\n",
              "<style>\n",
              "  .colab-df-quickchart {\n",
              "      --bg-color: #E8F0FE;\n",
              "      --fill-color: #1967D2;\n",
              "      --hover-bg-color: #E2EBFA;\n",
              "      --hover-fill-color: #174EA6;\n",
              "      --disabled-fill-color: #AAA;\n",
              "      --disabled-bg-color: #DDD;\n",
              "  }\n",
              "\n",
              "  [theme=dark] .colab-df-quickchart {\n",
              "      --bg-color: #3B4455;\n",
              "      --fill-color: #D2E3FC;\n",
              "      --hover-bg-color: #434B5C;\n",
              "      --hover-fill-color: #FFFFFF;\n",
              "      --disabled-bg-color: #3B4455;\n",
              "      --disabled-fill-color: #666;\n",
              "  }\n",
              "\n",
              "  .colab-df-quickchart {\n",
              "    background-color: var(--bg-color);\n",
              "    border: none;\n",
              "    border-radius: 50%;\n",
              "    cursor: pointer;\n",
              "    display: none;\n",
              "    fill: var(--fill-color);\n",
              "    height: 32px;\n",
              "    padding: 0;\n",
              "    width: 32px;\n",
              "  }\n",
              "\n",
              "  .colab-df-quickchart:hover {\n",
              "    background-color: var(--hover-bg-color);\n",
              "    box-shadow: 0 1px 2px rgba(60, 64, 67, 0.3), 0 1px 3px 1px rgba(60, 64, 67, 0.15);\n",
              "    fill: var(--button-hover-fill-color);\n",
              "  }\n",
              "\n",
              "  .colab-df-quickchart-complete:disabled,\n",
              "  .colab-df-quickchart-complete:disabled:hover {\n",
              "    background-color: var(--disabled-bg-color);\n",
              "    fill: var(--disabled-fill-color);\n",
              "    box-shadow: none;\n",
              "  }\n",
              "\n",
              "  .colab-df-spinner {\n",
              "    border: 2px solid var(--fill-color);\n",
              "    border-color: transparent;\n",
              "    border-bottom-color: var(--fill-color);\n",
              "    animation:\n",
              "      spin 1s steps(1) infinite;\n",
              "  }\n",
              "\n",
              "  @keyframes spin {\n",
              "    0% {\n",
              "      border-color: transparent;\n",
              "      border-bottom-color: var(--fill-color);\n",
              "      border-left-color: var(--fill-color);\n",
              "    }\n",
              "    20% {\n",
              "      border-color: transparent;\n",
              "      border-left-color: var(--fill-color);\n",
              "      border-top-color: var(--fill-color);\n",
              "    }\n",
              "    30% {\n",
              "      border-color: transparent;\n",
              "      border-left-color: var(--fill-color);\n",
              "      border-top-color: var(--fill-color);\n",
              "      border-right-color: var(--fill-color);\n",
              "    }\n",
              "    40% {\n",
              "      border-color: transparent;\n",
              "      border-right-color: var(--fill-color);\n",
              "      border-top-color: var(--fill-color);\n",
              "    }\n",
              "    60% {\n",
              "      border-color: transparent;\n",
              "      border-right-color: var(--fill-color);\n",
              "    }\n",
              "    80% {\n",
              "      border-color: transparent;\n",
              "      border-right-color: var(--fill-color);\n",
              "      border-bottom-color: var(--fill-color);\n",
              "    }\n",
              "    90% {\n",
              "      border-color: transparent;\n",
              "      border-bottom-color: var(--fill-color);\n",
              "    }\n",
              "  }\n",
              "</style>\n",
              "\n",
              "      <script>\n",
              "        async function quickchart(key) {\n",
              "          const quickchartButtonEl =\n",
              "            document.querySelector('#' + key + ' button');\n",
              "          quickchartButtonEl.disabled = true;  // To prevent multiple clicks.\n",
              "          quickchartButtonEl.classList.add('colab-df-spinner');\n",
              "          try {\n",
              "            const charts = await google.colab.kernel.invokeFunction(\n",
              "                'suggestCharts', [key], {});\n",
              "          } catch (error) {\n",
              "            console.error('Error during call to suggestCharts:', error);\n",
              "          }\n",
              "          quickchartButtonEl.classList.remove('colab-df-spinner');\n",
              "          quickchartButtonEl.classList.add('colab-df-quickchart-complete');\n",
              "        }\n",
              "        (() => {\n",
              "          let quickchartButtonEl =\n",
              "            document.querySelector('#df-5ed8b78c-d0b6-44ba-bd8f-de1099ebb02c button');\n",
              "          quickchartButtonEl.style.display =\n",
              "            google.colab.kernel.accessAllowed ? 'block' : 'none';\n",
              "        })();\n",
              "      </script>\n",
              "    </div>\n",
              "\n",
              "    </div>\n",
              "  </div>\n"
            ],
            "application/vnd.google.colaboratory.intrinsic+json": {
              "type": "dataframe",
              "variable_name": "df"
            }
          },
          "metadata": {},
          "execution_count": 845
        }
      ]
    },
    {
      "cell_type": "code",
      "execution_count": 846,
      "metadata": {
        "colab": {
          "base_uri": "https://localhost:8080/"
        },
        "id": "Ea0BC22YPqsZ",
        "outputId": "7587ce1f-bd3f-437a-a05b-c9e9876a0fb6"
      },
      "outputs": [
        {
          "output_type": "stream",
          "name": "stdout",
          "text": [
            "\n",
            "Column Data Types:\n",
            "\n",
            "id                int64\n",
            "region           object\n",
            "price             int64\n",
            "year            float64\n",
            "manufacturer     object\n",
            "model            object\n",
            "condition        object\n",
            "cylinders        object\n",
            "fuel             object\n",
            "odometer        float64\n",
            "title_status     object\n",
            "transmission     object\n",
            "VIN              object\n",
            "drive            object\n",
            "size             object\n",
            "type             object\n",
            "paint_color      object\n",
            "state            object\n",
            "dtype: object\n"
          ]
        }
      ],
      "source": [
        "# Data types\n",
        "print(\"\\nColumn Data Types:\\n\")\n",
        "print(df.dtypes)"
      ]
    },
    {
      "cell_type": "code",
      "source": [
        "print(\"\\nUnique Values Per Column:\\n\")\n",
        "print(df.nunique().sort_values(ascending=False))"
      ],
      "metadata": {
        "colab": {
          "base_uri": "https://localhost:8080/"
        },
        "id": "Fsizl2D0FSHm",
        "outputId": "b1dc21d8-bc1c-4cad-a779-74cdfb01aeed"
      },
      "execution_count": 847,
      "outputs": [
        {
          "output_type": "stream",
          "name": "stdout",
          "text": [
            "\n",
            "Unique Values Per Column:\n",
            "\n",
            "id              426880\n",
            "VIN             118246\n",
            "odometer        104870\n",
            "model            29649\n",
            "price            15655\n",
            "region             404\n",
            "year               114\n",
            "state               51\n",
            "manufacturer        42\n",
            "type                13\n",
            "paint_color         12\n",
            "cylinders            8\n",
            "title_status         6\n",
            "condition            6\n",
            "fuel                 5\n",
            "size                 4\n",
            "drive                3\n",
            "transmission         3\n",
            "dtype: int64\n"
          ]
        }
      ]
    },
    {
      "cell_type": "code",
      "source": [
        "print(\"\\nDataset Shape:\\n\")\n",
        "print(df.shape)"
      ],
      "metadata": {
        "colab": {
          "base_uri": "https://localhost:8080/"
        },
        "id": "A1c6WlkVFSA7",
        "outputId": "bd43e983-593d-477e-eb33-553eca9047ee"
      },
      "execution_count": 848,
      "outputs": [
        {
          "output_type": "stream",
          "name": "stdout",
          "text": [
            "\n",
            "Dataset Shape:\n",
            "\n",
            "(426880, 18)\n"
          ]
        }
      ]
    },
    {
      "cell_type": "markdown",
      "source": [
        "### **Explore Data:**"
      ],
      "metadata": {
        "id": "lbsBYjtPDJmm"
      }
    },
    {
      "cell_type": "code",
      "execution_count": 849,
      "metadata": {
        "colab": {
          "base_uri": "https://localhost:8080/",
          "height": 363
        },
        "id": "2WzOkjR8PqsZ",
        "outputId": "54c51167-ebb3-4c91-b238-e0fff2c516fa"
      },
      "outputs": [
        {
          "output_type": "execute_result",
          "data": {
            "text/plain": [
              "               count  unique                top    freq\n",
              "region        426880     404           columbus    3608\n",
              "manufacturer  409234      42               ford   70985\n",
              "model         421603   29649              f-150    8009\n",
              "condition     252776       6               good  121456\n",
              "cylinders     249202       8        6 cylinders   94169\n",
              "fuel          423867       5                gas  356209\n",
              "title_status  418638       6              clean  405117\n",
              "transmission  424324       3          automatic  336524\n",
              "VIN           265838  118246  1FMJU1JT1HEA52352     261\n",
              "drive         296313       3                4wd  131904"
            ],
            "text/html": [
              "\n",
              "  <div id=\"df-c41c194b-e299-4728-8c79-53ca7eabe801\" class=\"colab-df-container\">\n",
              "    <div>\n",
              "<style scoped>\n",
              "    .dataframe tbody tr th:only-of-type {\n",
              "        vertical-align: middle;\n",
              "    }\n",
              "\n",
              "    .dataframe tbody tr th {\n",
              "        vertical-align: top;\n",
              "    }\n",
              "\n",
              "    .dataframe thead th {\n",
              "        text-align: right;\n",
              "    }\n",
              "</style>\n",
              "<table border=\"1\" class=\"dataframe\">\n",
              "  <thead>\n",
              "    <tr style=\"text-align: right;\">\n",
              "      <th></th>\n",
              "      <th>count</th>\n",
              "      <th>unique</th>\n",
              "      <th>top</th>\n",
              "      <th>freq</th>\n",
              "    </tr>\n",
              "  </thead>\n",
              "  <tbody>\n",
              "    <tr>\n",
              "      <th>region</th>\n",
              "      <td>426880</td>\n",
              "      <td>404</td>\n",
              "      <td>columbus</td>\n",
              "      <td>3608</td>\n",
              "    </tr>\n",
              "    <tr>\n",
              "      <th>manufacturer</th>\n",
              "      <td>409234</td>\n",
              "      <td>42</td>\n",
              "      <td>ford</td>\n",
              "      <td>70985</td>\n",
              "    </tr>\n",
              "    <tr>\n",
              "      <th>model</th>\n",
              "      <td>421603</td>\n",
              "      <td>29649</td>\n",
              "      <td>f-150</td>\n",
              "      <td>8009</td>\n",
              "    </tr>\n",
              "    <tr>\n",
              "      <th>condition</th>\n",
              "      <td>252776</td>\n",
              "      <td>6</td>\n",
              "      <td>good</td>\n",
              "      <td>121456</td>\n",
              "    </tr>\n",
              "    <tr>\n",
              "      <th>cylinders</th>\n",
              "      <td>249202</td>\n",
              "      <td>8</td>\n",
              "      <td>6 cylinders</td>\n",
              "      <td>94169</td>\n",
              "    </tr>\n",
              "    <tr>\n",
              "      <th>fuel</th>\n",
              "      <td>423867</td>\n",
              "      <td>5</td>\n",
              "      <td>gas</td>\n",
              "      <td>356209</td>\n",
              "    </tr>\n",
              "    <tr>\n",
              "      <th>title_status</th>\n",
              "      <td>418638</td>\n",
              "      <td>6</td>\n",
              "      <td>clean</td>\n",
              "      <td>405117</td>\n",
              "    </tr>\n",
              "    <tr>\n",
              "      <th>transmission</th>\n",
              "      <td>424324</td>\n",
              "      <td>3</td>\n",
              "      <td>automatic</td>\n",
              "      <td>336524</td>\n",
              "    </tr>\n",
              "    <tr>\n",
              "      <th>VIN</th>\n",
              "      <td>265838</td>\n",
              "      <td>118246</td>\n",
              "      <td>1FMJU1JT1HEA52352</td>\n",
              "      <td>261</td>\n",
              "    </tr>\n",
              "    <tr>\n",
              "      <th>drive</th>\n",
              "      <td>296313</td>\n",
              "      <td>3</td>\n",
              "      <td>4wd</td>\n",
              "      <td>131904</td>\n",
              "    </tr>\n",
              "  </tbody>\n",
              "</table>\n",
              "</div>\n",
              "    <div class=\"colab-df-buttons\">\n",
              "\n",
              "  <div class=\"colab-df-container\">\n",
              "    <button class=\"colab-df-convert\" onclick=\"convertToInteractive('df-c41c194b-e299-4728-8c79-53ca7eabe801')\"\n",
              "            title=\"Convert this dataframe to an interactive table.\"\n",
              "            style=\"display:none;\">\n",
              "\n",
              "  <svg xmlns=\"http://www.w3.org/2000/svg\" height=\"24px\" viewBox=\"0 -960 960 960\">\n",
              "    <path d=\"M120-120v-720h720v720H120Zm60-500h600v-160H180v160Zm220 220h160v-160H400v160Zm0 220h160v-160H400v160ZM180-400h160v-160H180v160Zm440 0h160v-160H620v160ZM180-180h160v-160H180v160Zm440 0h160v-160H620v160Z\"/>\n",
              "  </svg>\n",
              "    </button>\n",
              "\n",
              "  <style>\n",
              "    .colab-df-container {\n",
              "      display:flex;\n",
              "      gap: 12px;\n",
              "    }\n",
              "\n",
              "    .colab-df-convert {\n",
              "      background-color: #E8F0FE;\n",
              "      border: none;\n",
              "      border-radius: 50%;\n",
              "      cursor: pointer;\n",
              "      display: none;\n",
              "      fill: #1967D2;\n",
              "      height: 32px;\n",
              "      padding: 0 0 0 0;\n",
              "      width: 32px;\n",
              "    }\n",
              "\n",
              "    .colab-df-convert:hover {\n",
              "      background-color: #E2EBFA;\n",
              "      box-shadow: 0px 1px 2px rgba(60, 64, 67, 0.3), 0px 1px 3px 1px rgba(60, 64, 67, 0.15);\n",
              "      fill: #174EA6;\n",
              "    }\n",
              "\n",
              "    .colab-df-buttons div {\n",
              "      margin-bottom: 4px;\n",
              "    }\n",
              "\n",
              "    [theme=dark] .colab-df-convert {\n",
              "      background-color: #3B4455;\n",
              "      fill: #D2E3FC;\n",
              "    }\n",
              "\n",
              "    [theme=dark] .colab-df-convert:hover {\n",
              "      background-color: #434B5C;\n",
              "      box-shadow: 0px 1px 3px 1px rgba(0, 0, 0, 0.15);\n",
              "      filter: drop-shadow(0px 1px 2px rgba(0, 0, 0, 0.3));\n",
              "      fill: #FFFFFF;\n",
              "    }\n",
              "  </style>\n",
              "\n",
              "    <script>\n",
              "      const buttonEl =\n",
              "        document.querySelector('#df-c41c194b-e299-4728-8c79-53ca7eabe801 button.colab-df-convert');\n",
              "      buttonEl.style.display =\n",
              "        google.colab.kernel.accessAllowed ? 'block' : 'none';\n",
              "\n",
              "      async function convertToInteractive(key) {\n",
              "        const element = document.querySelector('#df-c41c194b-e299-4728-8c79-53ca7eabe801');\n",
              "        const dataTable =\n",
              "          await google.colab.kernel.invokeFunction('convertToInteractive',\n",
              "                                                    [key], {});\n",
              "        if (!dataTable) return;\n",
              "\n",
              "        const docLinkHtml = 'Like what you see? Visit the ' +\n",
              "          '<a target=\"_blank\" href=https://colab.research.google.com/notebooks/data_table.ipynb>data table notebook</a>'\n",
              "          + ' to learn more about interactive tables.';\n",
              "        element.innerHTML = '';\n",
              "        dataTable['output_type'] = 'display_data';\n",
              "        await google.colab.output.renderOutput(dataTable, element);\n",
              "        const docLink = document.createElement('div');\n",
              "        docLink.innerHTML = docLinkHtml;\n",
              "        element.appendChild(docLink);\n",
              "      }\n",
              "    </script>\n",
              "  </div>\n",
              "\n",
              "\n",
              "    <div id=\"df-2b16d9af-1380-4df4-9a1e-96896f9a755e\">\n",
              "      <button class=\"colab-df-quickchart\" onclick=\"quickchart('df-2b16d9af-1380-4df4-9a1e-96896f9a755e')\"\n",
              "                title=\"Suggest charts\"\n",
              "                style=\"display:none;\">\n",
              "\n",
              "<svg xmlns=\"http://www.w3.org/2000/svg\" height=\"24px\"viewBox=\"0 0 24 24\"\n",
              "     width=\"24px\">\n",
              "    <g>\n",
              "        <path d=\"M19 3H5c-1.1 0-2 .9-2 2v14c0 1.1.9 2 2 2h14c1.1 0 2-.9 2-2V5c0-1.1-.9-2-2-2zM9 17H7v-7h2v7zm4 0h-2V7h2v10zm4 0h-2v-4h2v4z\"/>\n",
              "    </g>\n",
              "</svg>\n",
              "      </button>\n",
              "\n",
              "<style>\n",
              "  .colab-df-quickchart {\n",
              "      --bg-color: #E8F0FE;\n",
              "      --fill-color: #1967D2;\n",
              "      --hover-bg-color: #E2EBFA;\n",
              "      --hover-fill-color: #174EA6;\n",
              "      --disabled-fill-color: #AAA;\n",
              "      --disabled-bg-color: #DDD;\n",
              "  }\n",
              "\n",
              "  [theme=dark] .colab-df-quickchart {\n",
              "      --bg-color: #3B4455;\n",
              "      --fill-color: #D2E3FC;\n",
              "      --hover-bg-color: #434B5C;\n",
              "      --hover-fill-color: #FFFFFF;\n",
              "      --disabled-bg-color: #3B4455;\n",
              "      --disabled-fill-color: #666;\n",
              "  }\n",
              "\n",
              "  .colab-df-quickchart {\n",
              "    background-color: var(--bg-color);\n",
              "    border: none;\n",
              "    border-radius: 50%;\n",
              "    cursor: pointer;\n",
              "    display: none;\n",
              "    fill: var(--fill-color);\n",
              "    height: 32px;\n",
              "    padding: 0;\n",
              "    width: 32px;\n",
              "  }\n",
              "\n",
              "  .colab-df-quickchart:hover {\n",
              "    background-color: var(--hover-bg-color);\n",
              "    box-shadow: 0 1px 2px rgba(60, 64, 67, 0.3), 0 1px 3px 1px rgba(60, 64, 67, 0.15);\n",
              "    fill: var(--button-hover-fill-color);\n",
              "  }\n",
              "\n",
              "  .colab-df-quickchart-complete:disabled,\n",
              "  .colab-df-quickchart-complete:disabled:hover {\n",
              "    background-color: var(--disabled-bg-color);\n",
              "    fill: var(--disabled-fill-color);\n",
              "    box-shadow: none;\n",
              "  }\n",
              "\n",
              "  .colab-df-spinner {\n",
              "    border: 2px solid var(--fill-color);\n",
              "    border-color: transparent;\n",
              "    border-bottom-color: var(--fill-color);\n",
              "    animation:\n",
              "      spin 1s steps(1) infinite;\n",
              "  }\n",
              "\n",
              "  @keyframes spin {\n",
              "    0% {\n",
              "      border-color: transparent;\n",
              "      border-bottom-color: var(--fill-color);\n",
              "      border-left-color: var(--fill-color);\n",
              "    }\n",
              "    20% {\n",
              "      border-color: transparent;\n",
              "      border-left-color: var(--fill-color);\n",
              "      border-top-color: var(--fill-color);\n",
              "    }\n",
              "    30% {\n",
              "      border-color: transparent;\n",
              "      border-left-color: var(--fill-color);\n",
              "      border-top-color: var(--fill-color);\n",
              "      border-right-color: var(--fill-color);\n",
              "    }\n",
              "    40% {\n",
              "      border-color: transparent;\n",
              "      border-right-color: var(--fill-color);\n",
              "      border-top-color: var(--fill-color);\n",
              "    }\n",
              "    60% {\n",
              "      border-color: transparent;\n",
              "      border-right-color: var(--fill-color);\n",
              "    }\n",
              "    80% {\n",
              "      border-color: transparent;\n",
              "      border-right-color: var(--fill-color);\n",
              "      border-bottom-color: var(--fill-color);\n",
              "    }\n",
              "    90% {\n",
              "      border-color: transparent;\n",
              "      border-bottom-color: var(--fill-color);\n",
              "    }\n",
              "  }\n",
              "</style>\n",
              "\n",
              "      <script>\n",
              "        async function quickchart(key) {\n",
              "          const quickchartButtonEl =\n",
              "            document.querySelector('#' + key + ' button');\n",
              "          quickchartButtonEl.disabled = true;  // To prevent multiple clicks.\n",
              "          quickchartButtonEl.classList.add('colab-df-spinner');\n",
              "          try {\n",
              "            const charts = await google.colab.kernel.invokeFunction(\n",
              "                'suggestCharts', [key], {});\n",
              "          } catch (error) {\n",
              "            console.error('Error during call to suggestCharts:', error);\n",
              "          }\n",
              "          quickchartButtonEl.classList.remove('colab-df-spinner');\n",
              "          quickchartButtonEl.classList.add('colab-df-quickchart-complete');\n",
              "        }\n",
              "        (() => {\n",
              "          let quickchartButtonEl =\n",
              "            document.querySelector('#df-2b16d9af-1380-4df4-9a1e-96896f9a755e button');\n",
              "          quickchartButtonEl.style.display =\n",
              "            google.colab.kernel.accessAllowed ? 'block' : 'none';\n",
              "        })();\n",
              "      </script>\n",
              "    </div>\n",
              "\n",
              "    </div>\n",
              "  </div>\n"
            ],
            "application/vnd.google.colaboratory.intrinsic+json": {
              "type": "dataframe",
              "summary": "{\n  \"name\": \"df\",\n  \"rows\": 10,\n  \"fields\": [\n    {\n      \"column\": \"count\",\n      \"properties\": {\n        \"dtype\": \"date\",\n        \"min\": \"249202\",\n        \"max\": \"426880\",\n        \"num_unique_values\": 10,\n        \"samples\": [\n          \"265838\",\n          \"409234\",\n          \"423867\"\n        ],\n        \"semantic_type\": \"\",\n        \"description\": \"\"\n      }\n    },\n    {\n      \"column\": \"unique\",\n      \"properties\": {\n        \"dtype\": \"date\",\n        \"min\": 3,\n        \"max\": 118246,\n        \"num_unique_values\": 8,\n        \"samples\": [\n          42,\n          5,\n          404\n        ],\n        \"semantic_type\": \"\",\n        \"description\": \"\"\n      }\n    },\n    {\n      \"column\": \"top\",\n      \"properties\": {\n        \"dtype\": \"string\",\n        \"num_unique_values\": 10,\n        \"samples\": [\n          \"1FMJU1JT1HEA52352\",\n          \"ford\",\n          \"gas\"\n        ],\n        \"semantic_type\": \"\",\n        \"description\": \"\"\n      }\n    },\n    {\n      \"column\": \"freq\",\n      \"properties\": {\n        \"dtype\": \"date\",\n        \"min\": \"261\",\n        \"max\": \"405117\",\n        \"num_unique_values\": 10,\n        \"samples\": [\n          \"261\",\n          \"70985\",\n          \"356209\"\n        ],\n        \"semantic_type\": \"\",\n        \"description\": \"\"\n      }\n    }\n  ]\n}"
            }
          },
          "metadata": {},
          "execution_count": 849
        }
      ],
      "source": [
        "# Summary for numerical features\n",
        "df.describe()\n",
        "\n",
        "# Summary for categorical features (top 10)\n",
        "df.select_dtypes(include='object').describe().T.head(10)\n"
      ]
    },
    {
      "cell_type": "code",
      "source": [
        "# Histograms of key numeric fields\n",
        "df['price'].hist(bins=50)\n",
        "plt.title('Price Distribution')\n",
        "plt.xlabel('Price')\n",
        "plt.ylabel('Frequency')\n",
        "plt.show()"
      ],
      "metadata": {
        "colab": {
          "base_uri": "https://localhost:8080/",
          "height": 472
        },
        "id": "v5AuRmHiFJk6",
        "outputId": "9c1622ce-5f84-4b86-cc03-91844d9a641d"
      },
      "execution_count": 850,
      "outputs": [
        {
          "output_type": "display_data",
          "data": {
            "text/plain": [
              "<Figure size 640x480 with 1 Axes>"
            ],
            "image/png": "[encoded data removed]"
          },
          "metadata": {}
        }
      ]
    },
    {
      "cell_type": "code",
      "source": [
        "# Calculate stats\n",
        "min_price = df['price'].min()\n",
        "max_price = df['price'].max()\n",
        "median_price = df['price'].median()\n",
        "mean_price = round(df['price'].mean())  # Rounded since price is in whole dollars\n",
        "\n",
        "# Frequency lookup\n",
        "min_freq = df['price'].value_counts().get(min_price, 0)\n",
        "max_freq = df['price'].value_counts().get(max_price, 0)\n",
        "median_freq = df['price'].value_counts().get(median_price, 0)\n",
        "mean_freq = df['price'].value_counts().get(mean_price, 0)\n",
        "\n",
        "# Display results\n",
        "print(f\"Minimum Price: ${min_price:,} (Frequency: {min_freq})\")\n",
        "print(f\"Maximum Price: ${max_price:,} (Frequency: {max_freq})\")\n",
        "print(f\"Median Price:  ${median_price:,} (Frequency: {median_freq})\")\n",
        "print(f\"Mean Price:    ${mean_price:,} (Frequency: {mean_freq})\")\n",
        "\n",
        "# Frequency table: top 10 most common prices\n",
        "print(\"\\nTop 10 Most Frequent Price Values:\")\n",
        "print(df['price'].value_counts().head(10))\n"
      ],
      "metadata": {
        "colab": {
          "base_uri": "https://localhost:8080/"
        },
        "id": "WqHm747nHVwh",
        "outputId": "64993f07-d852-47e9-ace4-9af18b1259dc"
      },
      "execution_count": 851,
      "outputs": [
        {
          "output_type": "stream",
          "name": "stdout",
          "text": [
            "Minimum Price: $0 (Frequency: 32895)\n",
            "Maximum Price: $3,736,928,711 (Frequency: 2)\n",
            "Median Price:  $13,950.0 (Frequency: 297)\n",
            "Mean Price:    $75,199 (Frequency: 0)\n",
            "\n",
            "Top 10 Most Frequent Price Values:\n",
            "price\n",
            "0        32895\n",
            "6995      3169\n",
            "7995      3129\n",
            "9995      2867\n",
            "8995      2837\n",
            "4500      2778\n",
            "5995      2727\n",
            "3500      2716\n",
            "29990     2705\n",
            "6500      2594\n",
            "Name: count, dtype: int64\n"
          ]
        }
      ]
    },
    {
      "cell_type": "code",
      "source": [
        "# Filter out unrealistic prices\n",
        "df_filtered = df[(df['price'] >= 1) & (df['price'] <= 150000)]\n",
        "\n",
        "# Replot histogram\n",
        "plt.figure(figsize=(10, 5))\n",
        "df_filtered['price'].hist(bins=100)\n",
        "plt.title('Price Distribution (Filtered $1–$150K)')\n",
        "plt.xlabel('Price')\n",
        "plt.ylabel('Frequency')\n",
        "plt.grid(True)\n",
        "plt.show()"
      ],
      "metadata": {
        "colab": {
          "base_uri": "https://localhost:8080/",
          "height": 489
        },
        "id": "EtdINgPqGclq",
        "outputId": "c0961115-44cb-4e22-f49e-18e2d1adefa6"
      },
      "execution_count": 852,
      "outputs": [
        {
          "output_type": "display_data",
          "data": {
            "text/plain": [
              "<Figure size 1000x500 with 1 Axes>"
            ],
            "image/png": "[encoded data removed]"
          },
          "metadata": {}
        }
      ]
    },
    {
      "cell_type": "code",
      "source": [
        "# Countplot for top manufacturers\n",
        "top_makes = df['manufacturer'].value_counts().nlargest(10).index\n",
        "sns.countplot(y='manufacturer', data=df[df['manufacturer'].isin(top_makes)])\n",
        "plt.title('Top 10 Manufacturers')\n",
        "plt.show()"
      ],
      "metadata": {
        "colab": {
          "base_uri": "https://localhost:8080/",
          "height": 472
        },
        "id": "8-zqb5GsGerC",
        "outputId": "f0707ff6-edcf-4035-e09a-b16a987cffbd"
      },
      "execution_count": 853,
      "outputs": [
        {
          "output_type": "display_data",
          "data": {
            "text/plain": [
              "<Figure size 640x480 with 1 Axes>"
            ],
            "image/png": "[encoded data removed]"
          },
          "metadata": {}
        }
      ]
    },
    {
      "cell_type": "markdown",
      "source": [
        "### **Verify Data**"
      ],
      "metadata": {
        "id": "7ejzfvJgDLSx"
      }
    },
    {
      "cell_type": "code",
      "execution_count": 854,
      "metadata": {
        "colab": {
          "base_uri": "https://localhost:8080/"
        },
        "id": "VGcJjF3ZPqsZ",
        "outputId": "2996b58b-7598-4ac0-e18f-5affb97ccb4c"
      },
      "outputs": [
        {
          "output_type": "stream",
          "name": "stdout",
          "text": [
            "\n",
            "Missing Values (Count and %):\n",
            "\n",
            "              Missing Count  Missing %\n",
            "size                 306361  71.767476\n",
            "cylinders            177678  41.622470\n",
            "condition            174104  40.785232\n",
            "VIN                  161042  37.725356\n",
            "drive                130567  30.586347\n",
            "paint_color          130203  30.501078\n",
            "type                  92858  21.752717\n",
            "manufacturer          17646   4.133714\n",
            "title_status           8242   1.930753\n",
            "model                  5277   1.236179\n",
            "odometer               4400   1.030735\n",
            "fuel                   3013   0.705819\n",
            "transmission           2556   0.598763\n",
            "year                   1205   0.282281\n",
            "region                    0   0.000000\n",
            "id                        0   0.000000\n",
            "price                     0   0.000000\n",
            "state                     0   0.000000\n"
          ]
        }
      ],
      "source": [
        "# Count missing values\n",
        "print(\"\\nMissing Values (Count and %):\\n\")\n",
        "missing = df.isnull().sum().sort_values(ascending=False)\n",
        "missing_percent = (missing / len(df)) * 100\n",
        "missing_df = pd.DataFrame({'Missing Count': missing, 'Missing %': missing_percent})\n",
        "print(missing_df)"
      ]
    },
    {
      "cell_type": "code",
      "source": [
        "# Duplicates\n",
        "print(f\"Duplicate Rows: {df.duplicated().sum()}\")\n",
        "\n",
        "# Outlier boundaries (basic)\n",
        "print(\"Price range:\", df['price'].min(), \"to\", df['price'].max())"
      ],
      "metadata": {
        "colab": {
          "base_uri": "https://localhost:8080/"
        },
        "id": "nVaYVaxgFhb1",
        "outputId": "540e2c94-d0c9-4bad-95dc-8255e7c0192d"
      },
      "execution_count": 855,
      "outputs": [
        {
          "output_type": "stream",
          "name": "stdout",
          "text": [
            "Duplicate Rows: 0\n",
            "Price range: 0 to 3736928711\n"
          ]
        }
      ]
    },
    {
      "cell_type": "code",
      "source": [
        "# Replace '0' VINs with NaN\n",
        "df['VIN'] = df['VIN'].replace('0', np.nan)\n",
        "\n",
        "# Filter out placeholder-style VINs that start with '000000'\n",
        "df = df[~df['VIN'].astype(str).str.startswith('000000')]\n",
        "\n",
        "# Drop missing VINs\n",
        "df = df[df['VIN'].notnull()]\n",
        "\n",
        "# Drop duplicate VINs (same VIN appearing more than once)\n",
        "df = df.drop_duplicates(subset='VIN', keep='first')\n",
        "\n",
        "# Re-check final valid VIN stats\n",
        "valid_vins = df[df['VIN'].notnull()]\n",
        "duplicate_vins = valid_vins['VIN'].duplicated().sum()\n",
        "\n",
        "print(f\"Valid (non-missing and non-placeholder) VINs: {valid_vins.shape[0]:,}\")\n",
        "print(f\"Duplicate VINs (after cleanup): {duplicate_vins:,}\")\n",
        "\n",
        "# Display a few real duplicate examples\n",
        "if duplicate_vins > 0:\n",
        "    print(\"\\nSample duplicated VIN entries:\")\n",
        "    display(valid_vins[valid_vins['VIN'].duplicated(keep=False)].sort_values('VIN').head(10))\n"
      ],
      "metadata": {
        "colab": {
          "base_uri": "https://localhost:8080/"
        },
        "id": "0_GJhCVvIJKP",
        "outputId": "d39ebdce-046d-48b7-c990-ca977ab676b6"
      },
      "execution_count": 856,
      "outputs": [
        {
          "output_type": "stream",
          "name": "stdout",
          "text": [
            "Valid (non-missing and non-placeholder) VINs: 118,207\n",
            "Duplicate VINs (after cleanup): 0\n"
          ]
        }
      ]
    },
    {
      "cell_type": "code",
      "source": [
        "# Check how many rows filtered\n",
        "print(\"Original dataset rows: 426,880\")\n",
        "print(f\"Remaining rows after VIN cleanup: {df.shape[0]}\")\n",
        "\n",
        "# Show how many were dropped\n",
        "dropped = 426880 - df.shape[0]\n",
        "print(f\"Total rows dropped: {dropped:,} (~{dropped / 426880:.2%})\")\n"
      ],
      "metadata": {
        "colab": {
          "base_uri": "https://localhost:8080/"
        },
        "id": "EkAwiDqFKuq_",
        "outputId": "a0f32d2e-ce27-4742-9d13-40f5df76e545"
      },
      "execution_count": 857,
      "outputs": [
        {
          "output_type": "stream",
          "name": "stdout",
          "text": [
            "Original dataset rows: 426,880\n",
            "Remaining rows after VIN cleanup: 118207\n",
            "Total rows dropped: 308,673 (~72.31%)\n"
          ]
        }
      ]
    },
    {
      "cell_type": "markdown",
      "metadata": {
        "id": "hb6GiqXKPqsZ"
      },
      "source": [
        "### Data Preparation\n",
        "\n",
        "After our initial exploration and fine-tuning of the business understanding, it is time to construct our final dataset prior to modeling.  Here, we want to make sure to handle any integrity issues and cleaning, the engineering of new features, any transformations that we believe should happen (scaling, logarithms, normalization, etc.), and general preparation for modeling with `sklearn`."
      ]
    },
    {
      "cell_type": "code",
      "source": [
        "def list_column_options(column_name):\n",
        "    if column_name not in df.columns:\n",
        "        print(f\"'{column_name}' is not a valid column name.\")\n",
        "        return\n",
        "    counts = df[column_name].value_counts(dropna=False).sort_values(ascending=False)\n",
        "    print(f\"\\nUnique value counts for '{column_name}':\\n\")\n",
        "    print(counts)\n",
        "\n",
        "# Features:\n",
        "list_column_options('manufacturer')\n",
        "list_column_options('model')\n",
        "list_column_options('condition')\n",
        "list_column_options('cylinders')\n",
        "list_column_options('fuel')\n",
        "list_column_options('drive')\n",
        "list_column_options('paint_color')\n",
        "list_column_options('transmission')\n",
        "list_column_options('type')\n",
        "list_column_options('title_status')\n",
        "list_column_options('size')\n"
      ],
      "metadata": {
        "colab": {
          "base_uri": "https://localhost:8080/"
        },
        "id": "3_0xG1RQPcAa",
        "outputId": "fcfcc941-8b9d-4293-9e18-3deac12e34e4"
      },
      "execution_count": 858,
      "outputs": [
        {
          "output_type": "stream",
          "name": "stdout",
          "text": [
            "\n",
            "Unique value counts for 'manufacturer':\n",
            "\n",
            "manufacturer\n",
            "ford               18766\n",
            "chevrolet          14051\n",
            "toyota             10285\n",
            "honda               6742\n",
            "nissan              6094\n",
            "jeep                5589\n",
            "ram                 4622\n",
            "gmc                 4353\n",
            "bmw                 4129\n",
            "dodge               3762\n",
            "hyundai             3518\n",
            "mercedes-benz       3392\n",
            "subaru              3351\n",
            "NaN                 3061\n",
            "kia                 3008\n",
            "volkswagen          2706\n",
            "lexus               2366\n",
            "audi                2115\n",
            "cadillac            1921\n",
            "chrysler            1834\n",
            "mazda               1630\n",
            "buick               1514\n",
            "acura               1454\n",
            "infiniti            1289\n",
            "lincoln              998\n",
            "volvo                877\n",
            "mitsubishi           824\n",
            "rover                742\n",
            "mini                 719\n",
            "pontiac              487\n",
            "porsche              474\n",
            "jaguar               345\n",
            "saturn               257\n",
            "mercury              246\n",
            "fiat                 218\n",
            "tesla                195\n",
            "alfa-romeo           160\n",
            "harley-davidson       58\n",
            "ferrari               31\n",
            "aston-martin          11\n",
            "datsun                10\n",
            "land rover             3\n",
            "Name: count, dtype: int64\n",
            "\n",
            "Unique value counts for 'model':\n",
            "\n",
            "model\n",
            "f-150                                  2651\n",
            "silverado 1500                         1576\n",
            "1500                                   1316\n",
            "camry                                  1045\n",
            "escape                                 1039\n",
            "                                       ... \n",
            "1500 longhorn 4x4                         1\n",
            "avenger, se                               1\n",
            "sierra 1500 elevation automatic           1\n",
            "1500 big horn/lone star automatic         1\n",
            "Smart fortwo electric drive passion       1\n",
            "Name: count, Length: 17537, dtype: int64\n",
            "\n",
            "Unique value counts for 'condition':\n",
            "\n",
            "condition\n",
            "NaN          57143\n",
            "excellent    32052\n",
            "good         23896\n",
            "like new      3961\n",
            "fair           773\n",
            "new            322\n",
            "salvage         60\n",
            "Name: count, dtype: int64\n",
            "\n",
            "Unique value counts for 'cylinders':\n",
            "\n",
            "cylinders\n",
            "NaN             47956\n",
            "4 cylinders     26124\n",
            "6 cylinders     25641\n",
            "8 cylinders     16902\n",
            "5 cylinders       542\n",
            "other             467\n",
            "10 cylinders      307\n",
            "3 cylinders       213\n",
            "12 cylinders       55\n",
            "Name: count, dtype: int64\n",
            "\n",
            "Unique value counts for 'fuel':\n",
            "\n",
            "fuel\n",
            "gas         100608\n",
            "other         7878\n",
            "diesel        5996\n",
            "NaN           1638\n",
            "hybrid        1562\n",
            "electric       525\n",
            "Name: count, dtype: int64\n",
            "\n",
            "Unique value counts for 'drive':\n",
            "\n",
            "drive\n",
            "4wd    40250\n",
            "fwd    36254\n",
            "NaN    27323\n",
            "rwd    14380\n",
            "Name: count, dtype: int64\n",
            "\n",
            "Unique value counts for 'paint_color':\n",
            "\n",
            "paint_color\n",
            "NaN       30663\n",
            "white     22789\n",
            "black     18945\n",
            "silver    13755\n",
            "blue       9288\n",
            "red        8308\n",
            "grey       7696\n",
            "custom     1981\n",
            "green      1838\n",
            "brown      1668\n",
            "yellow      541\n",
            "orange      539\n",
            "purple      196\n",
            "Name: count, dtype: int64\n",
            "\n",
            "Unique value counts for 'transmission':\n",
            "\n",
            "transmission\n",
            "automatic    101465\n",
            "other         10035\n",
            "manual         5471\n",
            "NaN            1236\n",
            "Name: count, dtype: int64\n",
            "\n",
            "Unique value counts for 'type':\n",
            "\n",
            "type\n",
            "sedan          28745\n",
            "SUV            27774\n",
            "NaN            16163\n",
            "pickup         10477\n",
            "truck           9182\n",
            "other           6354\n",
            "hatchback       4864\n",
            "coupe           4549\n",
            "wagon           3833\n",
            "van             2604\n",
            "convertible     1947\n",
            "mini-van        1533\n",
            "bus              106\n",
            "offroad           76\n",
            "Name: count, dtype: int64\n",
            "\n",
            "Unique value counts for 'title_status':\n",
            "\n",
            "title_status\n",
            "clean         112324\n",
            "NaN             3638\n",
            "rebuilt         1443\n",
            "salvage          550\n",
            "lien             200\n",
            "missing           41\n",
            "parts only        11\n",
            "Name: count, dtype: int64\n",
            "\n",
            "Unique value counts for 'size':\n",
            "\n",
            "size\n",
            "NaN            87911\n",
            "full-size      15693\n",
            "mid-size        8289\n",
            "compact         5293\n",
            "sub-compact     1021\n",
            "Name: count, dtype: int64\n"
          ]
        }
      ]
    },
    {
      "cell_type": "code",
      "execution_count": 859,
      "metadata": {
        "id": "ubJJGKP1Pqsa"
      },
      "outputs": [],
      "source": [
        "# Drop only truly unnecessary columns if they exist\n",
        "columns_to_drop = ['id', 'size', \"VIN\"]\n",
        "existing_columns_to_drop = [col for col in columns_to_drop if col in df.columns]\n",
        "df = df.drop(columns=columns_to_drop, errors='ignore')\n",
        "\n",
        "# Fill missing categorical columns\n",
        "fill_unknown = ['condition', 'cylinders', 'paint_color', 'drive', 'type',\n",
        "                'title_status', 'manufacturer', 'fuel', 'transmission', 'model']\n",
        "df[fill_unknown] = df[fill_unknown].fillna('unknown')\n",
        "\n",
        "# Drop rows where critical numeric fields are missing\n",
        "df = df[df['year'].notnull()]\n",
        "df = df[df['odometer'].notnull()]"
      ]
    },
    {
      "cell_type": "code",
      "execution_count": 860,
      "metadata": {
        "colab": {
          "base_uri": "https://localhost:8080/"
        },
        "id": "GBdDJIkrPqsZ",
        "outputId": "3df440c6-1a6e-4224-bfbc-9c5ca54995b3"
      },
      "outputs": [
        {
          "output_type": "stream",
          "name": "stdout",
          "text": [
            "\n",
            "Missing Values (Count and %):\n",
            "\n",
            "              Missing Count  Missing %\n",
            "region                    0        0.0\n",
            "price                     0        0.0\n",
            "year                      0        0.0\n",
            "manufacturer              0        0.0\n",
            "model                     0        0.0\n",
            "condition                 0        0.0\n",
            "cylinders                 0        0.0\n",
            "fuel                      0        0.0\n",
            "odometer                  0        0.0\n",
            "title_status              0        0.0\n",
            "transmission              0        0.0\n",
            "drive                     0        0.0\n",
            "type                      0        0.0\n",
            "paint_color               0        0.0\n",
            "state                     0        0.0\n"
          ]
        }
      ],
      "source": [
        "# Count missing values\n",
        "print(\"\\nMissing Values (Count and %):\\n\")\n",
        "missing = df.isnull().sum().sort_values(ascending=False)\n",
        "missing_percent = (missing / len(df)) * 100\n",
        "missing_df = pd.DataFrame({'Missing Count': missing, 'Missing %': missing_percent})\n",
        "print(missing_df)"
      ]
    },
    {
      "cell_type": "markdown",
      "source": [
        "### Step: Clean Manufacturer Names\n",
        "\n",
        "- Merged `'rover'` and `'land rover'` into a single `'land rover'` category\n",
        "- Dropped 2,166 entries labeled as `'unknown'` since manufacturer is essential for dealership pricing analysis\n"
      ],
      "metadata": {
        "id": "ifCjQU8EQRpr"
      }
    },
    {
      "cell_type": "code",
      "source": [
        "df['manufacturer'] = df['manufacturer'].replace('rover', 'land rover')\n",
        "df = df[df['manufacturer'] != 'unknown']"
      ],
      "metadata": {
        "id": "aYkEF7FsQTpa"
      },
      "execution_count": 861,
      "outputs": []
    },
    {
      "cell_type": "markdown",
      "source": [
        "### Step: Clean 'condition' Field\n",
        "\n",
        "- Dropped 10 `salvage` listings — not suitable for dealership inventory\n",
        "- Retained `unknown` condition for now (43,693 rows), as these listings still contain useful data like price, mileage, and brand which we will utilize to provide recomendations based off of since it can be subjective anyways."
      ],
      "metadata": {
        "id": "K-X5l5HTQ0tE"
      }
    },
    {
      "cell_type": "code",
      "source": [
        "df = df[df['condition'] != 'salvage']"
      ],
      "metadata": {
        "id": "QoeNqcS0Q5ed"
      },
      "execution_count": 862,
      "outputs": []
    },
    {
      "cell_type": "code",
      "execution_count": 863,
      "metadata": {
        "colab": {
          "base_uri": "https://localhost:8080/"
        },
        "id": "1QHhjkkOPqsa",
        "outputId": "d6c1ad1c-66e5-483a-b621-6dcf775a427e"
      },
      "outputs": [
        {
          "output_type": "stream",
          "name": "stdout",
          "text": [
            "\n",
            "Missing Values (Count and %):\n",
            "\n",
            "              Missing Count  Missing %\n",
            "region                    0        0.0\n",
            "price                     0        0.0\n",
            "year                      0        0.0\n",
            "manufacturer              0        0.0\n",
            "model                     0        0.0\n",
            "condition                 0        0.0\n",
            "cylinders                 0        0.0\n",
            "fuel                      0        0.0\n",
            "odometer                  0        0.0\n",
            "title_status              0        0.0\n",
            "transmission              0        0.0\n",
            "drive                     0        0.0\n",
            "type                      0        0.0\n",
            "paint_color               0        0.0\n",
            "state                     0        0.0\n"
          ]
        }
      ],
      "source": [
        "# Count missing values\n",
        "print(\"\\nMissing Values (Count and %):\\n\")\n",
        "missing = df.isnull().sum().sort_values(ascending=False)\n",
        "missing_percent = (missing / len(df)) * 100\n",
        "missing_df = pd.DataFrame({'Missing Count': missing, 'Missing %': missing_percent})\n",
        "print(missing_df)"
      ]
    },
    {
      "cell_type": "code",
      "execution_count": 864,
      "metadata": {
        "colab": {
          "base_uri": "https://localhost:8080/"
        },
        "id": "-w684Vi4Pqsa",
        "outputId": "58434134-015e-4b97-8072-6142e3a0ae48"
      },
      "outputs": [
        {
          "output_type": "stream",
          "name": "stdout",
          "text": [
            "Total listings under $1000: 15429\n",
            "count    15429.000000\n",
            "mean        88.196513\n",
            "std        188.881970\n",
            "min          0.000000\n",
            "25%          0.000000\n",
            "50%          0.000000\n",
            "75%          0.000000\n",
            "max        999.000000\n",
            "Name: price, dtype: float64\n",
            "\n",
            "Most common low price values:\n",
            "\n",
            "price\n",
            "0     11650\n",
            "1       145\n",
            "3         4\n",
            "5         2\n",
            "6         1\n",
            "7         1\n",
            "9         1\n",
            "10        1\n",
            "11        1\n",
            "13        1\n",
            "Name: count, dtype: int64\n"
          ]
        }
      ],
      "source": [
        "# Explore sub-$1000 prices\n",
        "cheap_cars = df[df['price'] < 1000]\n",
        "print(\"Total listings under $1000:\", cheap_cars.shape[0])\n",
        "print(cheap_cars['price'].describe())\n",
        "print(\"\\nMost common low price values:\\n\")\n",
        "print(cheap_cars['price'].value_counts().sort_index().head(10))"
      ]
    },
    {
      "cell_type": "markdown",
      "source": [
        "### Step: Remove Listings Priced Under $1000\n",
        "\n",
        "After exploring the dataset, we found:\n",
        "- 15,614 cars were listed below $1000\n",
        "\n",
        "- 11,771 of those were exactly $0\n",
        "\n",
        "- Most sub-$1000 listings are placeholders, spam, or non-retail offerings\n",
        "\n",
        "#### Business Reason:\n",
        "Since our client is a used car dealership, vehicles priced under $1000 are not relevant to their typical inventory or customer market. Including these listings would distort insights and reduce the models relevance for their pricing strategy.\n",
        "\n",
        "#### Decision:\n",
        "We filtered out all listings with `price < $1000`:\n"
      ],
      "metadata": {
        "id": "42_2dITFNYcq"
      }
    },
    {
      "cell_type": "code",
      "source": [
        "df = df[df['price'] >= 1000]"
      ],
      "metadata": {
        "id": "ZngcvNpTNbQM"
      },
      "execution_count": 865,
      "outputs": []
    },
    {
      "cell_type": "markdown",
      "source": [
        "### Step: Filter to Only 'Clean' Title Vehicles\n",
        "\n",
        "Since our client is a used car dealership, we filtered out all vehicles that do not have a clean title. These include:\n",
        "\n",
        "- Rebuilt\n",
        "- Salvage\n",
        "- Lien\n",
        "- Parts only\n",
        "- Missing or unknown titles\n",
        "\n",
        "This ensures we are only analyzing inventory that would actually be relevant to the dealership.\n",
        "\n"
      ],
      "metadata": {
        "id": "dy2ICnxdOOBI"
      }
    },
    {
      "cell_type": "code",
      "execution_count": 866,
      "metadata": {
        "id": "LECNHGNIPqsa"
      },
      "outputs": [],
      "source": [
        "df = df[df['title_status'] == 'clean']"
      ]
    },
    {
      "cell_type": "code",
      "source": [
        "def list_column_options(column_name):\n",
        "    if column_name not in df.columns:\n",
        "        print(f\"'{column_name}' is not a valid column name.\")\n",
        "        return\n",
        "    counts = df[column_name].value_counts(dropna=False).sort_values(ascending=False)\n",
        "    print(f\"\\nUnique value counts for '{column_name}':\\n\")\n",
        "    print(counts)\n",
        "\n",
        "# Features:\n",
        "list_column_options('manufacturer')\n",
        "list_column_options('model')\n",
        "list_column_options('condition')\n",
        "list_column_options('cylinders')\n",
        "list_column_options('fuel')\n",
        "list_column_options('drive')\n",
        "list_column_options('paint_color')\n",
        "list_column_options('transmission')\n",
        "list_column_options('type')\n",
        "list_column_options('title_status')\n",
        "list_column_options('size')\n"
      ],
      "metadata": {
        "colab": {
          "base_uri": "https://localhost:8080/"
        },
        "outputId": "876007dd-5c52-432e-a630-8dbc7795daee",
        "id": "Nu5hkhW6Sell"
      },
      "execution_count": 867,
      "outputs": [
        {
          "output_type": "stream",
          "name": "stdout",
          "text": [
            "\n",
            "Unique value counts for 'manufacturer':\n",
            "\n",
            "manufacturer\n",
            "ford               15416\n",
            "chevrolet          11451\n",
            "toyota              8242\n",
            "honda               5394\n",
            "nissan              4796\n",
            "jeep                4405\n",
            "ram                 3696\n",
            "gmc                 3525\n",
            "bmw                 3426\n",
            "dodge               2928\n",
            "hyundai             2829\n",
            "mercedes-benz       2809\n",
            "subaru              2756\n",
            "kia                 2396\n",
            "volkswagen          2235\n",
            "lexus               2002\n",
            "audi                1769\n",
            "cadillac            1567\n",
            "chrysler            1494\n",
            "mazda               1270\n",
            "buick               1253\n",
            "acura               1174\n",
            "infiniti            1064\n",
            "lincoln              833\n",
            "volvo                776\n",
            "mitsubishi           675\n",
            "land rover           622\n",
            "mini                 609\n",
            "pontiac              436\n",
            "porsche              398\n",
            "jaguar               296\n",
            "saturn               225\n",
            "mercury              218\n",
            "fiat                 180\n",
            "tesla                156\n",
            "alfa-romeo           141\n",
            "harley-davidson       49\n",
            "ferrari               23\n",
            "datsun                 9\n",
            "aston-martin           8\n",
            "Name: count, dtype: int64\n",
            "\n",
            "Unique value counts for 'model':\n",
            "\n",
            "model\n",
            "f-150                      2199\n",
            "silverado 1500             1299\n",
            "1500                       1065\n",
            "escape                      886\n",
            "camry                       842\n",
            "                           ... \n",
            "passat 2.0t se auto           1\n",
            "panamera 4s                   1\n",
            "mazdaspeed6                   1\n",
            "mustang convertable           1\n",
            "benz 560 sl convertible       1\n",
            "Name: count, Length: 13004, dtype: int64\n",
            "\n",
            "Unique value counts for 'condition':\n",
            "\n",
            "condition\n",
            "unknown      43034\n",
            "excellent    25074\n",
            "good         21227\n",
            "like new      3402\n",
            "fair           576\n",
            "new            238\n",
            "Name: count, dtype: int64\n",
            "\n",
            "Unique value counts for 'cylinders':\n",
            "\n",
            "cylinders\n",
            "unknown         38294\n",
            "6 cylinders     20473\n",
            "4 cylinders     20144\n",
            "8 cylinders     13552\n",
            "5 cylinders       442\n",
            "other             252\n",
            "10 cylinders      220\n",
            "3 cylinders       144\n",
            "12 cylinders       30\n",
            "Name: count, dtype: int64\n",
            "\n",
            "Unique value counts for 'fuel':\n",
            "\n",
            "fuel\n",
            "gas         80511\n",
            "other        5915\n",
            "diesel       4503\n",
            "hybrid       1252\n",
            "unknown       943\n",
            "electric      427\n",
            "Name: count, dtype: int64\n",
            "\n",
            "Unique value counts for 'drive':\n",
            "\n",
            "drive\n",
            "4wd        32186\n",
            "fwd        29544\n",
            "unknown    20170\n",
            "rwd        11651\n",
            "Name: count, dtype: int64\n",
            "\n",
            "Unique value counts for 'paint_color':\n",
            "\n",
            "paint_color\n",
            "unknown    19827\n",
            "white      18979\n",
            "black      15989\n",
            "silver     11703\n",
            "blue        7796\n",
            "red         6977\n",
            "grey        6496\n",
            "custom      1783\n",
            "green       1589\n",
            "brown       1437\n",
            "orange       414\n",
            "yellow       395\n",
            "purple       166\n",
            "Name: count, dtype: int64\n",
            "\n",
            "Unique value counts for 'transmission':\n",
            "\n",
            "transmission\n",
            "automatic    79431\n",
            "other         9150\n",
            "manual        4255\n",
            "unknown        715\n",
            "Name: count, dtype: int64\n",
            "\n",
            "Unique value counts for 'type':\n",
            "\n",
            "type\n",
            "sedan          22766\n",
            "SUV            21500\n",
            "unknown        12535\n",
            "pickup          9006\n",
            "truck           6923\n",
            "other           5121\n",
            "hatchback       3956\n",
            "coupe           3511\n",
            "wagon           3177\n",
            "van             2045\n",
            "convertible     1588\n",
            "mini-van        1310\n",
            "offroad           61\n",
            "bus               52\n",
            "Name: count, dtype: int64\n",
            "\n",
            "Unique value counts for 'title_status':\n",
            "\n",
            "title_status\n",
            "clean    93551\n",
            "Name: count, dtype: int64\n",
            "'size' is not a valid column name.\n"
          ]
        }
      ]
    },
    {
      "cell_type": "markdown",
      "source": [
        "Create Car Age Feature:\n",
        "\n",
        "Provides easier way for user to digest the data in terms of age rather than having to calculate."
      ],
      "metadata": {
        "id": "-D-oVnWNeuCp"
      }
    },
    {
      "cell_type": "code",
      "source": [
        "df['car_age'] = 2025 - df['year']"
      ],
      "metadata": {
        "id": "ZJ1n-wl5evtE"
      },
      "execution_count": 868,
      "outputs": []
    },
    {
      "cell_type": "markdown",
      "source": [
        " Log Transformation: Create log_price\n",
        " Why?\n",
        "\n",
        "- Car prices have a wide range (e.g., $1,000 to over $100,000)\n",
        "- A few luxury cars or pricing errors can distort the model\n",
        "- Models like Linear Regression assume that the data follows a normal distribution\n",
        "\n",
        "Business Insight:\n",
        "\n",
        "This helps the model better understand average pricing behavior without being biased by luxury vehicles"
      ],
      "metadata": {
        "id": "8U3rP7sXfJWC"
      }
    },
    {
      "cell_type": "code",
      "source": [
        "df['log_price'] = np.log1p(df['price'])"
      ],
      "metadata": {
        "id": "HoYb599nfWC6"
      },
      "execution_count": 869,
      "outputs": []
    },
    {
      "cell_type": "markdown",
      "source": [
        "Simplify Car Models\n",
        "\n",
        "Model column has over 13,000 unique values"
      ],
      "metadata": {
        "id": "34yVM-V9fcsV"
      }
    },
    {
      "cell_type": "code",
      "source": [
        "def list_column_options(column_name):\n",
        "    if column_name not in df.columns:\n",
        "        print(f\"'{column_name}' is not a valid column name.\")\n",
        "        return\n",
        "    counts = df[column_name].value_counts(dropna=False).sort_values(ascending=False)\n",
        "    print(f\"\\nUnique value counts for '{column_name}':\\n\")\n",
        "    print(counts)\n",
        "\n",
        "# Features:\n",
        "list_column_options('model')"
      ],
      "metadata": {
        "colab": {
          "base_uri": "https://localhost:8080/"
        },
        "id": "QPOxmQbqgEuB",
        "outputId": "7f3b0e00-b088-489c-c455-1d9e1f55f78d"
      },
      "execution_count": 870,
      "outputs": [
        {
          "output_type": "stream",
          "name": "stdout",
          "text": [
            "\n",
            "Unique value counts for 'model':\n",
            "\n",
            "model\n",
            "f-150                      2199\n",
            "silverado 1500             1299\n",
            "1500                       1065\n",
            "escape                      886\n",
            "camry                       842\n",
            "                           ... \n",
            "passat 2.0t se auto           1\n",
            "panamera 4s                   1\n",
            "mazdaspeed6                   1\n",
            "mustang convertable           1\n",
            "benz 560 sl convertible       1\n",
            "Name: count, Length: 13004, dtype: int64\n"
          ]
        }
      ]
    },
    {
      "cell_type": "code",
      "source": [
        "# STEP 1: Normalize model strings\n",
        "df['model'] = df['model'].astype(str).str.lower().str.strip()\n",
        "df['model'] = df['model'].str.replace(r'[^\\w\\s\\-]', '', regex=True)\n",
        "\n",
        "# STEP 2: Replace known dirty strings\n",
        "specific_model_map = {\n",
        "    'sierra 1500 4x4 v6': 'sierra 1500',\n",
        "    '2500 67 cummins diesel 4x4 laramie leveled 35s': 'silverado 2500',\n",
        "    'explorer limited front wheel drive w4x4': 'explorer',\n",
        "    'f350 4wd drw 1owner rust free tx truck': 'f-350'\n",
        "}\n",
        "df['model'] = df['model'].replace(specific_model_map)\n",
        "\n",
        "# STEP 3: Basic exact mapping dictionary\n",
        "model_map = {\n",
        "    'f150': 'f-150',\n",
        "    'f 150': 'f-150',\n",
        "    'accord lx': 'accord',\n",
        "    # Add more if needed\n",
        "}\n",
        "df['model'] = df['model'].replace(model_map)\n",
        "\n",
        "# STEP 4: Trim and match\n",
        "trims_and_specs = [\n",
        "    'lx', 'le', 'se', 'xle', 'xlt', 'ex', 'exl', 'limited', 'platinum', 'base', 'sport', 'premium',\n",
        "    'touring', 'awd', 'fwd', 'rwd', '4wd', '4x4', 'eco', 'z71', 'lariat', 'crew cab', 'supercab',\n",
        "    'convertible', 'hatchback', 'sedan', 'coupe', 'manual', 'automatic', 'hybrid', 'diesel', 'gas',\n",
        "    'v6', 'v8', '6 cyl', '8 cyl', 'dr', '2dr', '4dr', 'passenger', 'cab', 'sl', 'sv', 'lt', 'ls',\n",
        "    'rz', 'rzr', 'plus', 'rs', 'es', 's', 'z', 'ti', 'dx', 'gx', 'tx', 'hx', 'gt', 'gti', 'gts',\n",
        "    'pzev', 'titanium', 'trailhawk', 'overland', 'longhorn', 'laredo', 'srt', 'l', 'xl', 't', 'cvti'\n",
        "]\n",
        "\n",
        "base_models = [\n",
        "    'f-150', 'f-250', 'f-350', 'silverado 1500', 'silverado 2500', 'silverado 3500', 'camry',\n",
        "    'corolla', 'civic', 'accord', 'altima', 'sentra', 'explorer', 'escape', 'fusion', 'wrangler',\n",
        "    'grand cherokee', 'malibu', 'rav4', 'cr-v', 'elantra', 'sonata', 'outback', 'tacoma', 'tundra',\n",
        "    'sierra 1500', 'sierra 2500', 'sierra 3500', 'mustang', 'impala', 'focus', 'pilot', 'odyssey',\n",
        "    'pathfinder', 'rogue', 'murano', 'rio', 'soul', 'forte', 'optima', 'sienna'\n",
        "]\n",
        "\n",
        "def trim_and_match_model(model):\n",
        "    model_cleaned = re.sub(r'\\b(' + '|'.join(trims_and_specs) + r')\\b', '', model)\n",
        "    model_cleaned = re.sub(r'\\s+', ' ', model_cleaned).strip()\n",
        "    for base in base_models:\n",
        "        if base in model_cleaned:\n",
        "            return base\n",
        "    return model_cleaned  # fallback\n",
        "\n",
        "df['model'] = df['model'].apply(trim_and_match_model)\n",
        "\n",
        "print(\"Unique models after cleaning:\", df['model'].nunique())\n",
        "print(df['model'].value_counts().head(20))\n",
        "\n",
        "# top_models = df['model'].value_counts().nlargest(50).index\n",
        "# df['model'] = df['model'].where(df['model'].isin(top_models), 'other')"
      ],
      "metadata": {
        "colab": {
          "base_uri": "https://localhost:8080/"
        },
        "id": "nvvnX_yPfdBy",
        "outputId": "60029311-4cf2-4c9f-d425-5287d5abd33b"
      },
      "execution_count": 871,
      "outputs": [
        {
          "output_type": "stream",
          "name": "stdout",
          "text": [
            "Unique models after cleaning: 6848\n",
            "model\n",
            "f-150             2863\n",
            "silverado 1500    2048\n",
            "wrangler          1589\n",
            "camry             1308\n",
            "civic             1291\n",
            "accord            1287\n",
            "escape            1254\n",
            "1500              1187\n",
            "grand cherokee    1076\n",
            "explorer          1059\n",
            "tacoma            1053\n",
            "f-250             1038\n",
            "altima             957\n",
            "corolla            944\n",
            "fusion             932\n",
            "cr-v               902\n",
            "focus              845\n",
            "equinox            813\n",
            "sierra 1500        807\n",
            "mustang            794\n",
            "Name: count, dtype: int64\n"
          ]
        }
      ]
    },
    {
      "cell_type": "code",
      "source": [
        "def list_column_options(column_name):\n",
        "    if column_name not in df.columns:\n",
        "        print(f\"'{column_name}' is not a valid column name.\")\n",
        "        return\n",
        "    counts = df[column_name].value_counts(dropna=False).sort_values(ascending=False)\n",
        "    print(f\"\\nUnique value counts for '{column_name}':\\n\")\n",
        "    print(counts)\n",
        "\n",
        "# Features:\n",
        "list_column_options('model')"
      ],
      "metadata": {
        "colab": {
          "base_uri": "https://localhost:8080/"
        },
        "id": "qFiS0Foifswf",
        "outputId": "c0886030-eb64-41a3-d5fb-0f1a61a711c9"
      },
      "execution_count": 872,
      "outputs": [
        {
          "output_type": "stream",
          "name": "stdout",
          "text": [
            "\n",
            "Unique value counts for 'model':\n",
            "\n",
            "model\n",
            "f-150               2863\n",
            "silverado 1500      2048\n",
            "wrangler            1589\n",
            "camry               1308\n",
            "civic               1291\n",
            "                    ... \n",
            "model x 75d            1\n",
            "savanna 2500 van       1\n",
            "f150xlt                1\n",
            "f150 triton            1\n",
            "defender 90            1\n",
            "Name: count, Length: 6848, dtype: int64\n"
          ]
        }
      ]
    },
    {
      "cell_type": "code",
      "source": [
        "# Keep top N most common models — adjust N as needed\n",
        "top_n = 200  # 200 to preserve more detail\n",
        "top_models = df['model'].value_counts().nlargest(top_n).index\n",
        "\n",
        "# Replace everything else with 'other'\n",
        "df['model'] = df['model'].where(df['model'].isin(top_models), 'other')\n",
        "\n",
        "# Review final output\n",
        "print(\"Unique models after grouping:\", df['model'].nunique())\n",
        "print(df['model'].value_counts().head(20))\n"
      ],
      "metadata": {
        "colab": {
          "base_uri": "https://localhost:8080/"
        },
        "id": "nktnZ70_m28Z",
        "outputId": "9f9ead42-d3d1-44be-a0e0-cd2ec98831f2"
      },
      "execution_count": 873,
      "outputs": [
        {
          "output_type": "stream",
          "name": "stdout",
          "text": [
            "Unique models after grouping: 201\n",
            "model\n",
            "other             27522\n",
            "f-150              2863\n",
            "silverado 1500     2048\n",
            "wrangler           1589\n",
            "camry              1308\n",
            "civic              1291\n",
            "accord             1287\n",
            "escape             1254\n",
            "1500               1187\n",
            "grand cherokee     1076\n",
            "explorer           1059\n",
            "tacoma             1053\n",
            "f-250              1038\n",
            "altima              957\n",
            "corolla             944\n",
            "fusion              932\n",
            "cr-v                902\n",
            "focus               845\n",
            "equinox             813\n",
            "sierra 1500         807\n",
            "Name: count, dtype: int64\n"
          ]
        }
      ]
    },
    {
      "cell_type": "code",
      "source": [
        "def list_column_options(column_name):\n",
        "    if column_name not in df.columns:\n",
        "        print(f\"'{column_name}' is not a valid column name.\")\n",
        "        return\n",
        "    counts = df[column_name].value_counts(dropna=False).sort_values(ascending=False)\n",
        "    print(f\"\\nUnique value counts for '{column_name}':\\n\")\n",
        "    print(counts)\n",
        "\n",
        "# Features:\n",
        "list_column_options('model')"
      ],
      "metadata": {
        "colab": {
          "base_uri": "https://localhost:8080/"
        },
        "id": "ERZWIFpTnVnG",
        "outputId": "66e75437-6fc2-4fe6-8088-b7f496cf9e62"
      },
      "execution_count": 874,
      "outputs": [
        {
          "output_type": "stream",
          "name": "stdout",
          "text": [
            "\n",
            "Unique value counts for 'model':\n",
            "\n",
            "model\n",
            "other                27522\n",
            "f-150                 2863\n",
            "silverado 1500        2048\n",
            "wrangler              1589\n",
            "camry                 1308\n",
            "                     ...  \n",
            "q50                     70\n",
            "m-class                 69\n",
            "edge sel                69\n",
            "grand caravan sxt       69\n",
            "genesis                 68\n",
            "Name: count, Length: 201, dtype: int64\n"
          ]
        }
      ]
    },
    {
      "cell_type": "code",
      "source": [
        "# generates the model csv for easier processing for the model map\n",
        "# df['model'].value_counts().to_csv('model_counts.csv')"
      ],
      "metadata": {
        "id": "_jmMEnTAg8xb"
      },
      "execution_count": 875,
      "outputs": []
    },
    {
      "cell_type": "markdown",
      "source": [
        "Encode Categorical Variables\n",
        "- Categorical variable: A variable that contains labels instead of numbers (e.g., fuel = gas, diesel, electric)\n",
        "\n",
        "- Encoding: Converting categorical labels into numbers that a model can understand\n",
        "\n",
        "- One-hot encoding: Converts each category into its own column with binary values (0 or 1)"
      ],
      "metadata": {
        "id": "kRQlNrfogUeR"
      }
    },
    {
      "cell_type": "code",
      "source": [
        "categorical_cols = [\n",
        "    'manufacturer', 'model', 'condition', 'cylinders', 'fuel',\n",
        "    'drive', 'paint_color', 'transmission', 'type', 'state', 'region',\n",
        "    'title_status'\n",
        "]\n",
        "\n",
        "df_encoded = pd.get_dummies(df, columns=categorical_cols, drop_first=True)"
      ],
      "metadata": {
        "id": "FE3XJ2p0gUM7"
      },
      "execution_count": 876,
      "outputs": []
    },
    {
      "cell_type": "markdown",
      "source": [
        "Normalize or Scale Numeric Features\n",
        "\n",
        "This ensures that features like odometer (which might range from 0 to 300,000) don’t dominate features like car_age (which might range from 0 to 25) during model training."
      ],
      "metadata": {
        "id": "et_lpCh3gVaC"
      }
    },
    {
      "cell_type": "code",
      "source": [
        "scaler = StandardScaler()\n",
        "df[['odometer', 'car_age']] = scaler.fit_transform(df[['odometer', 'car_age']])"
      ],
      "metadata": {
        "id": "mQ-VvB-ugVAQ"
      },
      "execution_count": 877,
      "outputs": []
    },
    {
      "cell_type": "code",
      "source": [
        "top_regions = df['region'].value_counts().nlargest(10).index\n",
        "df['region_grouped'] = df['region'].where(df['region'].isin(top_regions), 'other')"
      ],
      "metadata": {
        "id": "eg8havff3DW0"
      },
      "execution_count": 878,
      "outputs": []
    },
    {
      "cell_type": "markdown",
      "metadata": {
        "id": "NanAysbqPqsa"
      },
      "source": [
        "### Modeling\n",
        "\n",
        "With your (almost?) final dataset in hand, it is now time to build some models.  Here, you should build a number of different regression models with the price as the target.  In building your models, you should explore different parameters and be sure to cross-validate your findings."
      ]
    },
    {
      "cell_type": "markdown",
      "source": [
        "Prepare Features and Target"
      ],
      "metadata": {
        "id": "Gy_MYiFOpMet"
      }
    },
    {
      "cell_type": "code",
      "execution_count": 879,
      "metadata": {
        "id": "I0_8YNxOPqsa"
      },
      "outputs": [],
      "source": [
        "# Set target and features\n",
        "X = df_encoded.drop(columns=['price', 'log_price', 'year'])  # only numeric columns\n",
        "y = df_encoded['log_price']"
      ]
    },
    {
      "cell_type": "markdown",
      "source": [
        "Split Data into Training and Test Sets"
      ],
      "metadata": {
        "id": "GvVm9QgfpQXn"
      }
    },
    {
      "cell_type": "code",
      "execution_count": 880,
      "metadata": {
        "id": "wx9wvLeOPqsa"
      },
      "outputs": [],
      "source": [
        "X_train, X_test, y_train, y_test = train_test_split(\n",
        "    X, y, test_size=0.2, random_state=42\n",
        ")"
      ]
    },
    {
      "cell_type": "markdown",
      "source": [
        "Choose Regression Models"
      ],
      "metadata": {
        "id": "_Jc5gCKfpeVu"
      }
    },
    {
      "cell_type": "code",
      "execution_count": 881,
      "metadata": {
        "id": "A8wXLWdUPqsa"
      },
      "outputs": [],
      "source": [
        "models = {\n",
        "    'Linear Regression': LinearRegression(),\n",
        "    'Ridge Regression': Ridge(alpha=1.0),\n",
        "    'Lasso Regression': Lasso(alpha=0.1),\n",
        "}"
      ]
    },
    {
      "cell_type": "markdown",
      "source": [
        "Train & Evaluate Each Model"
      ],
      "metadata": {
        "id": "4zRBBtS3piQg"
      }
    },
    {
      "cell_type": "code",
      "execution_count": 882,
      "metadata": {
        "id": "KGrBsEANPqsa"
      },
      "outputs": [],
      "source": [
        "# Initialize result storage\n",
        "results = {}\n",
        "coefs = {}\n",
        "\n",
        "# Train and evaluate each model\n",
        "for name, model in models.items():\n",
        "    model.fit(X_train, y_train)\n",
        "    y_pred = model.predict(X_test)\n",
        "\n",
        "    rmse = np.sqrt(mean_squared_error(y_test, y_pred))\n",
        "    r2 = r2_score(y_test, y_pred)\n",
        "    cv_r2 = cross_val_score(model, X, y, cv=5, scoring='r2').mean()\n",
        "\n",
        "    results[name] = {'RMSE': rmse, 'R²': r2, 'CV R² (5-fold)': cv_r2}\n",
        "    coefs[name] = pd.Series(model.coef_, index=X.columns)"
      ]
    },
    {
      "cell_type": "markdown",
      "metadata": {
        "id": "kSNrfnzOPqsa"
      },
      "source": [
        "### Evaluation\n",
        "\n",
        "With some modeling accomplished, we aim to reflect on what we identify as a high-quality model and what we are able to learn from this.  We should review our business objective and explore how well we can provide meaningful insight into drivers of used car prices.  Your goal now is to distill your findings and determine whether the earlier phases need revisitation and adjustment or if you have information of value to bring back to your client."
      ]
    },
    {
      "cell_type": "code",
      "source": [
        "results_df = pd.DataFrame(results).T.sort_values(by='CV R² (5-fold)', ascending=False)\n",
        "print(results_df)"
      ],
      "metadata": {
        "colab": {
          "base_uri": "https://localhost:8080/"
        },
        "id": "bico6WtDth1X",
        "outputId": "e7c64dcf-a731-46e9-db8a-8f9f8dc8b81d"
      },
      "execution_count": 883,
      "outputs": [
        {
          "output_type": "stream",
          "name": "stdout",
          "text": [
            "                       RMSE        R²  CV R² (5-fold)\n",
            "Ridge Regression   0.429789  0.675843        0.453637\n",
            "Linear Regression  0.429976  0.675561        0.452730\n",
            "Lasso Regression   0.603867  0.360077        0.159900\n"
          ]
        }
      ]
    },
    {
      "cell_type": "code",
      "source": [
        "print(results_df)\n",
        "print(\"\\nTop predictors for each model:\")\n",
        "\n",
        "for name, coef_series in coefs.items():\n",
        "    print(f\"\\n{name} top 10 predictors:\")\n",
        "    print(coef_series.sort_values(key=abs, ascending=False).head(10))"
      ],
      "metadata": {
        "colab": {
          "base_uri": "https://localhost:8080/"
        },
        "id": "mV2D7kgi6PQX",
        "outputId": "31fd86c8-fb81-4d4a-f409-d551f5f2f00d"
      },
      "execution_count": 884,
      "outputs": [
        {
          "output_type": "stream",
          "name": "stdout",
          "text": [
            "                       RMSE        R²  CV R² (5-fold)\n",
            "Ridge Regression   0.429789  0.675843        0.453637\n",
            "Linear Regression  0.429976  0.675561        0.452730\n",
            "Lasso Regression   0.603867  0.360077        0.159900\n",
            "\n",
            "Top predictors for each model:\n",
            "\n",
            "Linear Regression top 10 predictors:\n",
            "region_cookeville       2.685728\n",
            "manufacturer_datsun     1.436100\n",
            "manufacturer_ferrari    1.424430\n",
            "model_cobalt           -1.235197\n",
            "model_fiesta           -1.012164\n",
            "model_hhr              -1.007856\n",
            "model_pt cruiser       -0.972122\n",
            "model_spark            -0.945605\n",
            "model_sonic            -0.942815\n",
            "model_focus            -0.934325\n",
            "dtype: float64\n",
            "\n",
            "Ridge Regression top 10 predictors:\n",
            "region_cookeville       2.344762\n",
            "manufacturer_ferrari    1.352916\n",
            "manufacturer_datsun     1.253826\n",
            "model_cobalt           -1.075977\n",
            "model_fiesta           -0.862335\n",
            "model_hhr              -0.848485\n",
            "model_pt cruiser       -0.813223\n",
            "model_sonic            -0.791270\n",
            "model_focus            -0.789055\n",
            "model_spark            -0.788023\n",
            "dtype: float64\n",
            "\n",
            "Lasso Regression top 10 predictors:\n",
            "drive_fwd                     -0.084863\n",
            "car_age                       -0.043423\n",
            "odometer                      -0.000002\n",
            "region_houston                 0.000000\n",
            "region_humboldt county         0.000000\n",
            "region_huntington-ashland     -0.000000\n",
            "region_huntsville / decatur    0.000000\n",
            "region_imperial county        -0.000000\n",
            "region_indianapolis           -0.000000\n",
            "region_inland empire          -0.000000\n",
            "dtype: float64\n"
          ]
        }
      ]
    },
    {
      "cell_type": "markdown",
      "source": [
        "The Ridge and Linear are nearly identical due to the data cleaning which eliminated a lot of potential noise.\n",
        "\n",
        "## Ridge vs. Linear in Practice\n",
        "### Linear Regression:\n",
        "Good for small feature sets, when interpretability matters most\n",
        "\n",
        "Pros:\n",
        "- Super fast and simple\n",
        "- Directly shows how each feature affects the target (clear coefficients)\n",
        "- Easy to explain to non-technical audiences\n",
        "\n",
        "Cons:\n",
        "- Assumes features are not too correlated\n",
        "- Can produce unstable results if there is noise or many features\n",
        "- Easily overfits on high-dimensional data\n",
        "\n",
        "### Ridge Regression:\n",
        "Good for large or messy feature sets, especially post-one-hot-encoding\n",
        "\n",
        "Pros:\n",
        "- Shrinks coefficients to prevent overfitting\n",
        "- Handles multicollinearity (correlated predictors)\n",
        "- Better performance on new/unseen data\n",
        "- Especially useful after one-hot encoding 50+ features\n",
        "\n",
        "Cons:\n",
        "- Coefficients are “shrunk,” making them harder to interpret\n",
        "- Still keeps all features (unlike Lasso, which drops some)\n",
        "\n",
        "Even though performance metrics are nearly identical, I selected Ridge Regression as the preferred model for the client because it is better suited to large, one-hot-encoded datasets like this one and provides more stability when generalizing to future car listings."
      ],
      "metadata": {
        "id": "C9sdF6OWyaVB"
      }
    },
    {
      "cell_type": "code",
      "source": [
        "ridge_model = results['Ridge Regression']"
      ],
      "metadata": {
        "id": "YQEYzYz8-HYJ"
      },
      "execution_count": 885,
      "outputs": []
    },
    {
      "cell_type": "code",
      "source": [
        "ridge_coefs = pd.Series(ridge_model.coef_, index=X.columns)\n",
        "print(ridge_coefs.sort_values(key=abs, ascending=False).head(20))\n"
      ],
      "metadata": {
        "colab": {
          "base_uri": "https://localhost:8080/"
        },
        "id": "XqOHe1sd-KLW",
        "outputId": "c206ac57-58f8-4bcd-edff-69ce1bd758bb"
      },
      "execution_count": 886,
      "outputs": [
        {
          "output_type": "stream",
          "name": "stdout",
          "text": [
            "region_cookeville       2.344762\n",
            "manufacturer_ferrari    1.352916\n",
            "manufacturer_datsun     1.253826\n",
            "model_cobalt           -1.075977\n",
            "model_fiesta           -0.862335\n",
            "model_hhr              -0.848485\n",
            "model_pt cruiser       -0.813223\n",
            "model_sonic            -0.791270\n",
            "model_focus            -0.789055\n",
            "model_spark            -0.788023\n",
            "model_trailblazer      -0.751003\n",
            "manufacturer_porsche    0.742873\n",
            "manufacturer_saturn    -0.719583\n",
            "model_g6               -0.713573\n",
            "model_sebring          -0.704974\n",
            "model_yaris            -0.683858\n",
            "model_taurus           -0.666259\n",
            "condition_fair         -0.640786\n",
            "manufacturer_tesla      0.626317\n",
            "model_impala           -0.603768\n",
            "dtype: float64\n"
          ]
        }
      ]
    },
    {
      "cell_type": "code",
      "execution_count": 887,
      "metadata": {
        "colab": {
          "base_uri": "https://localhost:8080/"
        },
        "id": "ckZuNnLYPqsa",
        "outputId": "b901bf5f-9704-484b-fc51-1da2302f952a"
      },
      "outputs": [
        {
          "output_type": "stream",
          "name": "stdout",
          "text": [
            "region_cookeville       2.344762\n",
            "manufacturer_ferrari    1.352916\n",
            "manufacturer_datsun     1.253826\n",
            "model_cobalt           -1.075977\n",
            "model_fiesta           -0.862335\n",
            "model_hhr              -0.848485\n",
            "model_pt cruiser       -0.813223\n",
            "model_sonic            -0.791270\n",
            "model_focus            -0.789055\n",
            "model_spark            -0.788023\n",
            "model_trailblazer      -0.751003\n",
            "manufacturer_porsche    0.742873\n",
            "manufacturer_saturn    -0.719583\n",
            "model_g6               -0.713573\n",
            "model_sebring          -0.704974\n",
            "model_yaris            -0.683858\n",
            "model_taurus           -0.666259\n",
            "condition_fair         -0.640786\n",
            "manufacturer_tesla      0.626317\n",
            "model_impala           -0.603768\n",
            "dtype: float64\n"
          ]
        }
      ],
      "source": [
        "# After fitting\n",
        "coefficients = pd.Series(ridge_model.coef_, index=X.columns)\n",
        "coefficients_sorted = coefficients.sort_values(key=abs, ascending=False)\n",
        "\n",
        "# Display top 20 predictors\n",
        "print(coefficients_sorted.head(20))"
      ]
    },
    {
      "cell_type": "code",
      "execution_count": 888,
      "metadata": {
        "colab": {
          "base_uri": "https://localhost:8080/",
          "height": 487
        },
        "id": "g1XsFk3bPqsa",
        "outputId": "ff39d8cf-681e-4aa6-c275-ff229afc6056"
      },
      "outputs": [
        {
          "output_type": "display_data",
          "data": {
            "text/plain": [
              "<Figure size 640x480 with 1 Axes>"
            ],
            "image/png": "[encoded data removed]"
          },
          "metadata": {}
        }
      ],
      "source": [
        "coefficients_sorted.head(20).plot(kind='barh', title='Top 20 Price Predictors')\n",
        "plt.gca().invert_yaxis()\n",
        "plt.tight_layout()\n",
        "plt.show()"
      ]
    },
    {
      "cell_type": "code",
      "execution_count": 889,
      "metadata": {
        "colab": {
          "base_uri": "https://localhost:8080/"
        },
        "id": "37BZtAc9Pqsa",
        "outputId": "84661845-25e7-4501-fc45-adcef1f32c16"
      },
      "outputs": [
        {
          "output_type": "stream",
          "name": "stdout",
          "text": [
            "region_cookeville           2.344762\n",
            "manufacturer_ferrari        1.352916\n",
            "manufacturer_datsun         1.253826\n",
            "model_cobalt               -1.075977\n",
            "model_fiesta               -0.862335\n",
            "                              ...   \n",
            "region_odessa / midland     0.001010\n",
            "model_f250 super duty      -0.000610\n",
            "region_albany               0.000229\n",
            "region_olympic peninsula   -0.000068\n",
            "odometer                   -0.000002\n",
            "Length: 737, dtype: float64\n"
          ]
        }
      ],
      "source": [
        "# Sets a threshold for “non-zero”\n",
        "threshold = 0.000001\n",
        "\n",
        "nonzero_coefs = coefficients[coefficients.abs() > threshold].sort_values(key=abs, ascending=False)\n",
        "print(nonzero_coefs)"
      ]
    },
    {
      "cell_type": "code",
      "execution_count": 894,
      "metadata": {
        "colab": {
          "base_uri": "https://localhost:8080/",
          "height": 487
        },
        "id": "Z6mwyvc9Pqsa",
        "outputId": "7702ee24-532f-4d14-f875-722c07bd59f0"
      },
      "outputs": [
        {
          "output_type": "display_data",
          "data": {
            "text/plain": [
              "<Figure size 640x480 with 1 Axes>"
            ],
            "image/png": "[encoded data removed]"
          },
          "metadata": {}
        }
      ],
      "source": [
        "nonzero_coefs.head(30).plot(kind='barh', title='Top 20 Predictors (|coef| > 0.000001)')\n",
        "plt.gca().invert_yaxis()\n",
        "plt.tight_layout()\n",
        "plt.show()"
      ]
    },
    {
      "cell_type": "code",
      "execution_count": 891,
      "metadata": {
        "colab": {
          "base_uri": "https://localhost:8080/"
        },
        "id": "cJz-PA9fPqsb",
        "outputId": "f545419e-dadb-49bd-9584-b836765c0c74"
      },
      "outputs": [
        {
          "output_type": "stream",
          "name": "stdout",
          "text": [
            "\n",
            "Estimated annual price drop: 4.53%\n"
          ]
        }
      ],
      "source": [
        "car_age_coef = coefs['Ridge Regression']['car_age']\n",
        "depreciation_rate = np.expm1(-car_age_coef)  # since target is log_price\n",
        "print(f\"\\nEstimated annual price drop: {depreciation_rate:.2%}\")"
      ]
    },
    {
      "cell_type": "markdown",
      "source": [
        "We set out to build a model that would help a used car dealership understand what factors make some vehicles more valuable than others. After significant data cleaning and transformation, we evaluated three regression models (Linear, Ridge, Lasso).\n",
        "\n",
        "Ridge Regression emerged as the best-performing model, with an RMSE of 0.43 and R² of 0.68. Although Linear Regression performed similarly, Ridge is better suited for our high-dimensional dataset due to its ability to handle multicollinearity and large sets of one-hot encoded features.\n",
        "\n",
        "Key predictors of price included:\n",
        "\n",
        "- Car age\n",
        "- Mileage (odometer)\n",
        "- Make and model\n",
        "- Drive type and condition\n",
        "\n",
        "We removed extreme outliers (like cars listed at $0) and placeholder VINs to reduce noise and improve model reliability.\n",
        "\n",
        "After running this model the first time I noticed the region having seperate listing created a wave of zero coefficients thus creating a noisy result.  Therefore, I took the top 20 then grouped the rest together and reran it.  Also, I had year still in the model along with the car age which skewed the data.\n",
        "\n",
        "At this point, we do not believe earlier phases need revision, as the model performs well and provides insights directly aligned with the dealership’s goals.\n",
        "\n",
        "This model is ready to support pricing recommendations and strategic inventory decisions."
      ],
      "metadata": {
        "id": "Qc757u3A0Hfr"
      }
    },
    {
      "cell_type": "markdown",
      "metadata": {
        "id": "Iv1xUSsePqsb"
      },
      "source": [
        "### Deployment\n",
        "\n",
        "Now that we've settled on our models and findings, it is time to deliver the information to the client.  You should organize your work as a basic report that details your primary findings.  Keep in mind that your audience is a group of used car dealers interested in fine-tuning their inventory."
      ]
    },
    {
      "cell_type": "code",
      "execution_count": 891,
      "metadata": {
        "id": "CqtRN-b2Pqsb"
      },
      "outputs": [],
      "source": []
    },
    {
      "cell_type": "code",
      "execution_count": 891,
      "metadata": {
        "id": "FY399swwPqsb"
      },
      "outputs": [],
      "source": []
    },
    {
      "cell_type": "code",
      "execution_count": 891,
      "metadata": {
        "id": "FDxUWXbNPqsb"
      },
      "outputs": [],
      "source": []
    },
    {
      "cell_type": "code",
      "execution_count": 891,
      "metadata": {
        "id": "nqubio9FPqsb"
      },
      "outputs": [],
      "source": []
    },
    {
      "cell_type": "code",
      "execution_count": 891,
      "metadata": {
        "id": "KrwU2ZxOPqsb"
      },
      "outputs": [],
      "source": []
    },
    {
      "cell_type": "code",
      "execution_count": 891,
      "metadata": {
        "id": "591PohkJPqsb"
      },
      "outputs": [],
      "source": []
    },
    {
      "cell_type": "code",
      "execution_count": 891,
      "metadata": {
        "id": "ATCzBJk4Pqsb"
      },
      "outputs": [],
      "source": []
    }
  ],
  "metadata": {
    "kernelspec": {
      "display_name": "Python 3",
      "language": "python",
      "name": "python3"
    },
    "language_info": {
      "codemirror_mode": {
        "name": "ipython",
        "version": 3
      },
      "file_extension": ".py",
      "mimetype": "text/x-python",
      "name": "python",
      "nbconvert_exporter": "python",
      "pygments_lexer": "ipython3",
      "version": "3.8.8"
    },
    "colab": {
      "provenance": [],
      "include_colab_link": true
    }
  },
  "nbformat": 4,
  "nbformat_minor": 0
}