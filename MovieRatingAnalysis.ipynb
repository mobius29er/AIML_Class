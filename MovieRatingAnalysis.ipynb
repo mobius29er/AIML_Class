{
  "cells": [
    {
      "cell_type": "markdown",
      "metadata": {
        "id": "view-in-github",
        "colab_type": "text"
      },
      "source": [
        "<a href=\"https://colab.research.google.com/github/mobius29er/AIML_Class/blob/main/MovieRatingAnalysis.ipynb\" target=\"_parent\"><img src=\"https://colab.research.google.com/assets/colab-badge.svg\" alt=\"Open In Colab\"/></a>"
      ]
    },
    {
      "cell_type": "markdown",
      "metadata": {
        "id": "2GflYH-bpwpd"
      },
      "source": [
        "### Required Discussion 19:1: Building a Recommender System with SURPRISE\n",
        "\n",
        "This discussion focuses on exploring additional algorithms with the `Suprise` library to generate recommendations.  Your goal is to identify the optimal algorithm by minimizing the mean squared error using cross validation. You are also going to select a dataset to use from [grouplens](https://grouplens.org/datasets/movielens/) example datasets.  \n",
        "\n",
        "To begin, head over to [grouplens](https://grouplens.org/datasets/movielens/) and examine the different datasets available.  Choose one so that it is easy to create the data as expected in `Surprise` with user, item, and rating information.  Then, compare the performance of at least the `KNNBasic`, `SVD`, `NMF`, `SlopeOne`, and `CoClustering` algorithms to build your recommendations.  For more information on the algorithms see the documentation for the algorithm package [here](https://surprise.readthedocs.io/en/stable/prediction_algorithms_package.html).\n",
        "\n",
        "Share the results of your investigation and include the results of your cross validation and a basic description of your dataset with your peers.\n"
      ]
    },
    {
      "cell_type": "code",
      "source": [
        "!pip install \"numpy<2.0\"\n",
        "!pip install surprise"
      ],
      "metadata": {
        "colab": {
          "base_uri": "https://localhost:8080/"
        },
        "collapsed": true,
        "id": "AqedaD951mjW",
        "outputId": "ea141032-785b-45b0-8262-22f5a1faf74d"
      },
      "execution_count": 6,
      "outputs": [
        {
          "output_type": "stream",
          "name": "stdout",
          "text": [
            "Requirement already satisfied: numpy<2.0 in /usr/local/lib/python3.12/dist-packages (1.26.4)\n",
            "Collecting surprise\n",
            "  Using cached surprise-0.1-py2.py3-none-any.whl.metadata (327 bytes)\n",
            "Requirement already satisfied: scikit-surprise in /usr/local/lib/python3.12/dist-packages (from surprise) (1.1.4)\n",
            "Requirement already satisfied: joblib>=1.2.0 in /usr/local/lib/python3.12/dist-packages (from scikit-surprise->surprise) (1.5.1)\n",
            "Requirement already satisfied: numpy>=1.19.5 in /usr/local/lib/python3.12/dist-packages (from scikit-surprise->surprise) (1.26.4)\n",
            "Requirement already satisfied: scipy>=1.6.0 in /usr/local/lib/python3.12/dist-packages (from scikit-surprise->surprise) (1.16.1)\n",
            "Using cached surprise-0.1-py2.py3-none-any.whl (1.8 kB)\n",
            "Installing collected packages: surprise\n",
            "Successfully installed surprise-0.1\n"
          ]
        }
      ]
    },
    {
      "cell_type": "code",
      "execution_count": 11,
      "metadata": {
        "id": "uV6ZwKQppwpe"
      },
      "outputs": [],
      "source": [
        "import pandas as pd\n",
        "from surprise import Dataset, Reader, SVD, NMF, KNNBasic, SlopeOne, CoClustering, NormalPredictor;\n",
        "from surprise.model_selection import cross_validate, RandomizedSearchCV, train_test_split\n",
        "from surprise import accuracy\n",
        "import time\n",
        "from scipy.stats import randint, uniform\n",
        "import matplotlib.pyplot as plt"
      ]
    },
    {
      "cell_type": "code",
      "metadata": {
        "id": "eac9f2e2",
        "colab": {
          "base_uri": "https://localhost:8080/"
        },
        "outputId": "2922a36c-6b70-4662-a16b-22cf41350839",
        "collapsed": true
      },
      "source": [
        "!gdown https://drive.google.com/uc?id=1BRpXZorDwjvZuX3b1wF1_6pHREMkWMwN -O links.csv\n",
        "!gdown https://drive.google.com/uc?id=1scyn6EGZfYsJtRZCaUIkl9rvgEq25BEM -O movies.csv\n",
        "!gdown https://drive.google.com/uc?id=1RrmA2bCbz3S8NG5hTHsIfTdbJaSxVRR_ -O ratings.csv\n",
        "!gdown https://drive.google.com/uc?id=10fC8xmQ5a0hpeXcQXPOYXUV2XsbMMWtv -O tags.csv"
      ],
      "execution_count": 2,
      "outputs": [
        {
          "output_type": "stream",
          "name": "stdout",
          "text": [
            "Downloading...\n",
            "From: https://drive.google.com/uc?id=1BRpXZorDwjvZuX3b1wF1_6pHREMkWMwN\n",
            "To: /content/links.csv\n",
            "100% 198k/198k [00:00<00:00, 82.3MB/s]\n",
            "Downloading...\n",
            "From: https://drive.google.com/uc?id=1scyn6EGZfYsJtRZCaUIkl9rvgEq25BEM\n",
            "To: /content/movies.csv\n",
            "100% 494k/494k [00:00<00:00, 161MB/s]\n",
            "Downloading...\n",
            "From: https://drive.google.com/uc?id=1RrmA2bCbz3S8NG5hTHsIfTdbJaSxVRR_\n",
            "To: /content/ratings.csv\n",
            "100% 2.48M/2.48M [00:00<00:00, 129MB/s]\n",
            "Downloading...\n",
            "From: https://drive.google.com/uc?id=10fC8xmQ5a0hpeXcQXPOYXUV2XsbMMWtv\n",
            "To: /content/tags.csv\n",
            "100% 119k/119k [00:00<00:00, 115MB/s]\n"
          ]
        }
      ]
    },
    {
      "cell_type": "code",
      "execution_count": 5,
      "metadata": {
        "id": "znnAO9mTpwpf"
      },
      "outputs": [],
      "source": [
        "# Load ratings\n",
        "ratings = pd.read_csv(\"ratings.csv\")\n",
        "\n",
        "# Load movies for mapping IDs to titles\n",
        "movies = pd.read_csv(\"movies.csv\")\n",
        "\n",
        "# Build Surprise dataset\n",
        "reader = Reader(line_format=\"user item rating timestamp\", sep=\",\", rating_scale=(0.5,5.0))\n",
        "data = Dataset.load_from_df(ratings[[\"userId\",\"movieId\",\"rating\"]], Reader(rating_scale=(0.5,5)))"
      ]
    },
    {
      "cell_type": "code",
      "execution_count": 12,
      "metadata": {
        "id": "baN7IVREpwpf",
        "colab": {
          "base_uri": "https://localhost:8080/"
        },
        "outputId": "4b52e2e3-42a8-46e4-99bd-529ba8eb4893"
      },
      "outputs": [
        {
          "output_type": "stream",
          "name": "stdout",
          "text": [
            "Computing the msd similarity matrix...\n",
            "Done computing similarity matrix.\n",
            "Cross-validated RMSEs: {'SVD': 0.8807462819979623, 'NMF': 0.9287510909340335, 'SlopeOne': 0.9114276258338462, 'KNNBasic': 0.9578061143849369, 'CoClustering': 0.9543517643640059}\n"
          ]
        }
      ],
      "source": [
        "# Train/test split\n",
        "trainset, testset = train_test_split(data, test_size=0.2, random_state=42)\n",
        "\n",
        "# Run multiple algorithms\n",
        "algos = {\n",
        "    \"SVD\": SVD(random_state=42),\n",
        "    \"NMF\": NMF(random_state=42),\n",
        "    \"SlopeOne\": SlopeOne(),\n",
        "    \"KNNBasic\": KNNBasic(),\n",
        "    \"CoClustering\": CoClustering(random_state=42)\n",
        "}\n",
        "\n",
        "results = {}\n",
        "predictions = {}\n",
        "\n",
        "for name, algo in algos.items():\n",
        "    algo.fit(trainset)\n",
        "    preds = algo.test(testset)\n",
        "    rmse = accuracy.rmse(preds, verbose=False)\n",
        "    results[name] = rmse\n",
        "    predictions[name] = preds\n",
        "\n",
        "print(\"Cross-validated RMSEs:\", results)"
      ]
    },
    {
      "cell_type": "code",
      "execution_count": 13,
      "metadata": {
        "id": "mSL5b4Ywpwpf",
        "colab": {
          "base_uri": "https://localhost:8080/"
        },
        "outputId": "8c04c2dd-3bbf-48c8-a2f7-6076dc4cac14"
      },
      "outputs": [
        {
          "output_type": "stream",
          "name": "stdout",
          "text": [
            "                                               title  userId  hybrid_rating  \\\n",
            "0                        Under the Tuscan Sun (2003)     140       3.184288   \n",
            "1                          Once Were Warriors (1994)     603       4.515343   \n",
            "2                 Dragon: The Bruce Lee Story (1993)     438       2.781713   \n",
            "3                                     Arrival (2016)     433       3.424891   \n",
            "4                  Bad and the Beautiful, The (1952)     474       3.409121   \n",
            "5                         Sound of Music, The (1965)     304       4.394399   \n",
            "6                      Not Another Teen Movie (2001)     298       2.130361   \n",
            "7  Léon: The Professional (a.k.a. The Professiona...     131       3.611973   \n",
            "8                                  Ghost Ship (2002)     288       2.248211   \n",
            "9                          Hotel Transylvania (2012)     448       2.779960   \n",
            "\n",
            "   svd_rating  slope_one_rating  \n",
            "0    3.412888          2.955687  \n",
            "1    4.455247          4.575440  \n",
            "2    3.125288          2.438138  \n",
            "3    3.505740          3.344043  \n",
            "4    3.315013          3.503229  \n",
            "5    4.406484          4.382314  \n",
            "6    2.317694          1.943028  \n",
            "7    3.616616          3.607330  \n",
            "8    2.507903          1.988520  \n",
            "9    2.927629          2.632290  \n"
          ]
        }
      ],
      "source": [
        "def preds_to_df(preds, label):\n",
        "    return pd.DataFrame([(p.uid, p.iid, p.est) for p in preds],\n",
        "                        columns=[\"userId\",\"movieId\",label])\n",
        "\n",
        "# Convert\n",
        "svd_df = preds_to_df(predictions[\"SVD\"], \"svd_rating\")\n",
        "s1_df  = preds_to_df(predictions[\"SlopeOne\"], \"slope_one_rating\")\n",
        "\n",
        "# Merge and build hybrid\n",
        "hybrid_df = svd_df.merge(s1_df, on=[\"userId\",\"movieId\"])\n",
        "hybrid_df[\"hybrid_rating\"] = hybrid_df[[\"svd_rating\",\"slope_one_rating\"]].mean(axis=1)\n",
        "\n",
        "# Add movie titles\n",
        "hybrid_df = hybrid_df.merge(movies[[\"movieId\",\"title\"]], on=\"movieId\", how=\"left\")\n",
        "\n",
        "# Format columns like assignment asks\n",
        "hybrid_df = hybrid_df[[\"title\",\"userId\",\"hybrid_rating\",\"svd_rating\",\"slope_one_rating\"]]\n",
        "\n",
        "print(hybrid_df.head(10))\n"
      ]
    },
    {
      "cell_type": "code",
      "execution_count": 15,
      "metadata": {
        "id": "w-jd2RRdpwpg",
        "colab": {
          "base_uri": "https://localhost:8080/"
        },
        "outputId": "5517fad3-990c-4c7f-f5cc-f950ba8317e5"
      },
      "outputs": [
        {
          "output_type": "stream",
          "name": "stdout",
          "text": [
            "                  RMSE\n",
            "SVD           0.880746\n",
            "SlopeOne      0.911428\n",
            "NMF           0.928751\n",
            "CoClustering  0.954352\n",
            "KNNBasic      0.957806\n"
          ]
        }
      ],
      "source": [
        "results_df = pd.DataFrame.from_dict(results, orient='index', columns=['RMSE']).sort_values(by=\"RMSE\")\n",
        "print(results_df)"
      ]
    },
    {
      "cell_type": "code",
      "execution_count": null,
      "metadata": {
        "id": "abQKTBk8pwpg"
      },
      "outputs": [],
      "source": []
    }
  ],
  "metadata": {
    "kernelspec": {
      "display_name": "Python 3",
      "name": "python3"
    },
    "language_info": {
      "codemirror_mode": {
        "name": "ipython",
        "version": 3
      },
      "file_extension": ".py",
      "mimetype": "text/x-python",
      "name": "python",
      "nbconvert_exporter": "python",
      "pygments_lexer": "ipython3",
      "version": "3.8.3"
    },
    "colab": {
      "provenance": [],
      "machine_shape": "hm",
      "gpuType": "A100",
      "include_colab_link": true
    }
  },
  "nbformat": 4,
  "nbformat_minor": 0
}